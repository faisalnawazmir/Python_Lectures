{
 "cells": [
  {
   "cell_type": "markdown",
   "metadata": {
    "slideshow": {
     "slide_type": "-"
    }
   },
   "source": [
    "# Module 3: Python Functions"
   ]
  },
  {
   "cell_type": "code",
   "execution_count": 5,
   "metadata": {
    "slideshow": {
     "slide_type": "slide"
    }
   },
   "outputs": [
    {
     "data": {
      "text/plain": [
       "int"
      ]
     },
     "execution_count": 5,
     "metadata": {},
     "output_type": "execute_result"
    }
   ],
   "source": [
    "# Function calls\n",
    "\n",
    "'''\n",
    "Python has several built-in functions that we can call.\n",
    "For example the type() function returns the type of a python object\n",
    "'''\n",
    "type(32)\n"
   ]
  },
  {
   "cell_type": "code",
   "execution_count": 6,
   "metadata": {},
   "outputs": [
    {
     "data": {
      "text/plain": [
       "str"
      ]
     },
     "execution_count": 6,
     "metadata": {},
     "output_type": "execute_result"
    }
   ],
   "source": [
    "type('hello')"
   ]
  },
  {
   "cell_type": "code",
   "execution_count": 7,
   "metadata": {
    "slideshow": {
     "slide_type": "slide"
    }
   },
   "outputs": [
    {
     "data": {
      "text/plain": [
       "70"
      ]
     },
     "execution_count": 7,
     "metadata": {},
     "output_type": "execute_result"
    }
   ],
   "source": [
    "max(1,2,70,-3)"
   ]
  },
  {
   "cell_type": "code",
   "execution_count": 9,
   "metadata": {
    "slideshow": {
     "slide_type": "slide"
    }
   },
   "outputs": [
    {
     "data": {
      "text/plain": [
       "-3"
      ]
     },
     "execution_count": 9,
     "metadata": {},
     "output_type": "execute_result"
    }
   ],
   "source": [
    "min(1,2,70,-3)"
   ]
  },
  {
   "cell_type": "markdown",
   "metadata": {
    "slideshow": {
     "slide_type": "slide"
    }
   },
   "source": [
    "# Type Conversion Functions"
   ]
  },
  {
   "cell_type": "code",
   "execution_count": 10,
   "metadata": {
    "slideshow": {
     "slide_type": "slide"
    }
   },
   "outputs": [
    {
     "data": {
      "text/plain": [
       "32"
      ]
     },
     "execution_count": 10,
     "metadata": {},
     "output_type": "execute_result"
    }
   ],
   "source": [
    "int('32')"
   ]
  },
  {
   "cell_type": "code",
   "execution_count": 31,
   "metadata": {
    "slideshow": {
     "slide_type": "slide"
    }
   },
   "outputs": [
    {
     "ename": "ValueError",
     "evalue": "invalid literal for int() with base 10: 'Hello'",
     "output_type": "error",
     "traceback": [
      "\u001b[1;31m---------------------------------------------------------------------------\u001b[0m",
      "\u001b[1;31mValueError\u001b[0m                                Traceback (most recent call last)",
      "\u001b[1;32m<ipython-input-31-6765ce49acfe>\u001b[0m in \u001b[0;36m<module>\u001b[1;34m()\u001b[0m\n\u001b[1;32m----> 1\u001b[1;33m \u001b[0mint\u001b[0m\u001b[1;33m(\u001b[0m\u001b[1;34m'Hello'\u001b[0m\u001b[1;33m)\u001b[0m\u001b[1;33m\u001b[0m\u001b[0m\n\u001b[0m",
      "\u001b[1;31mValueError\u001b[0m: invalid literal for int() with base 10: 'Hello'"
     ]
    }
   ],
   "source": [
    "int('Hello')"
   ]
  },
  {
   "cell_type": "code",
   "execution_count": null,
   "metadata": {
    "slideshow": {
     "slide_type": "slide"
    }
   },
   "outputs": [],
   "source": [
    "# try out these conversion functions\n",
    "int(3.9999)\n",
    "int(-2.3)\n",
    "float(32)\n",
    "float('3.14159')\n"
   ]
  },
  {
   "cell_type": "code",
   "execution_count": 11,
   "metadata": {},
   "outputs": [
    {
     "data": {
      "text/plain": [
       "3"
      ]
     },
     "execution_count": 11,
     "metadata": {},
     "output_type": "execute_result"
    }
   ],
   "source": [
    "int(3.999)"
   ]
  },
  {
   "cell_type": "markdown",
   "metadata": {
    "slideshow": {
     "slide_type": "slide"
    }
   },
   "source": [
    "# Math functions\n"
   ]
  },
  {
   "cell_type": "code",
   "execution_count": 32,
   "metadata": {
    "slideshow": {
     "slide_type": "slide"
    }
   },
   "outputs": [
    {
     "name": "stdout",
     "output_type": "stream",
     "text": [
      "<module 'math' (built-in)>\n"
     ]
    }
   ],
   "source": [
    "# Start by importing the math module in Python\n",
    "import math\n",
    "\n",
    "# get some information about it\n",
    "print(math)"
   ]
  },
  {
   "cell_type": "code",
   "execution_count": 46,
   "metadata": {
    "slideshow": {
     "slide_type": "slide"
    }
   },
   "outputs": [
    {
     "name": "stdout",
     "output_type": "stream",
     "text": [
      "decibals:\n",
      "0.7424602837211263\n",
      "height:\n",
      "0.644217687237691\n",
      "squate root:\n",
      "0.7071067811865476\n"
     ]
    }
   ],
   "source": [
    "# Calling math functions with dot notation (math.xxxx)\n",
    "\n",
    "## math.log10() function\n",
    "signal_power = 0.7\n",
    "noise_power = 0.59\n",
    "ratio = signal_power/noise_power\n",
    "decibals = 10 * math.log10(ratio)     # use of math.log10() function\n",
    "print('decibals:')\n",
    "print(decibals)\n",
    "\n",
    "## math.sin() function\n",
    "radians = 0.7\n",
    "height = math.sin(radians)            # use of math.sin() function\n",
    "print('height:')\n",
    "print(height)\n",
    "\n",
    "\n",
    "\n"
   ]
  },
  {
   "cell_type": "code",
   "execution_count": 13,
   "metadata": {
    "slideshow": {
     "slide_type": "slide"
    }
   },
   "outputs": [
    {
     "name": "stdout",
     "output_type": "stream",
     "text": [
      "squate root:\n",
      "5.0\n"
     ]
    }
   ],
   "source": [
    "import math\n",
    "## math.sqrt(function)\n",
    "sqrt2= math.sqrt(25)              # use of math.sqrt() function\n",
    "print ('squate root:')\n",
    "print(sqrt2)"
   ]
  },
  {
   "cell_type": "markdown",
   "metadata": {
    "slideshow": {
     "slide_type": "slide"
    }
   },
   "source": [
    "# Random numbers\n"
   ]
  },
  {
   "cell_type": "code",
   "execution_count": 47,
   "metadata": {
    "slideshow": {
     "slide_type": "slide"
    }
   },
   "outputs": [
    {
     "name": "stdout",
     "output_type": "stream",
     "text": [
      "0.7218747510628829\n",
      "0.336653627695508\n",
      "0.0651230933425837\n",
      "0.10088686507936884\n",
      "0.7040568102013699\n",
      "0.1789138358150938\n",
      "0.418114429556936\n",
      "0.3014472039554714\n",
      "0.8286882849512821\n",
      "0.8838833478265747\n"
     ]
    }
   ],
   "source": [
    "## The random module provides functions that generate psuedorandom numbers\n",
    "### The random function returns a float between 0.0 and 1.0\n",
    "\n",
    "import random\n",
    "\n",
    "for i in range(10):\n",
    "    x = random.random()\n",
    "    print(x)"
   ]
  },
  {
   "cell_type": "code",
   "execution_count": 17,
   "metadata": {},
   "outputs": [
    {
     "data": {
      "text/plain": [
       "0.8934490610037098"
      ]
     },
     "execution_count": 17,
     "metadata": {},
     "output_type": "execute_result"
    }
   ],
   "source": [
    "import random\n",
    "random.random()"
   ]
  },
  {
   "cell_type": "code",
   "execution_count": 20,
   "metadata": {
    "slideshow": {
     "slide_type": "slide"
    }
   },
   "outputs": [
    {
     "data": {
      "text/plain": [
       "40"
      ]
     },
     "execution_count": 20,
     "metadata": {},
     "output_type": "execute_result"
    }
   ],
   "source": [
    "# randint() function returns randomly selected integers between parameters low and high\n",
    "random.randint(5, 100)                 # returns an integer chosen at random from the range 5 to 10\n",
    "\n",
    "# invok randint() function again to see what it selects"
   ]
  },
  {
   "cell_type": "code",
   "execution_count": 22,
   "metadata": {
    "slideshow": {
     "slide_type": "slide"
    }
   },
   "outputs": [
    {
     "data": {
      "text/plain": [
       "2"
      ]
     },
     "execution_count": 22,
     "metadata": {},
     "output_type": "execute_result"
    }
   ],
   "source": [
    "# The choice() function returns an integer chosen at random from a given sequence\n",
    "t =[1, 2, 3]\n",
    "random.choice(t)\n",
    "\n",
    "# repeatedly invoke choice() function to get different randomly selected integers from t."
   ]
  },
  {
   "cell_type": "markdown",
   "metadata": {
    "slideshow": {
     "slide_type": "slide"
    }
   },
   "source": [
    "# Creating user-defined functions"
   ]
  },
  {
   "cell_type": "code",
   "execution_count": 23,
   "metadata": {
    "slideshow": {
     "slide_type": "slide"
    }
   },
   "outputs": [
    {
     "name": "stdout",
     "output_type": "stream",
     "text": [
      "Aisi zameen aur aasman\n",
      "In kay siwa jaana kahan\n",
      "Padti rahay yeh roshni\n",
      "Chalta rahay yeh karwan\n",
      "\n",
      "   Dil dil Pakistan\n",
      "   Jaan jaan Pakistan\n"
     ]
    }
   ],
   "source": [
    "'''\n",
    "Before we can use a function, we have to create it with a FUNCTION DEFINITION.\n",
    "A function definition is simply a name given to a sequence of statements.\n",
    "Whenever a function is called, the sequence of statements is executed.\n",
    "Once you have defined a function, you can use it again and again.\n",
    "\n",
    "'''\n",
    "\n",
    "def lyrics_dildilpakistan():\n",
    "    print('Aisi zameen aur aasman')\n",
    "    print('In kay siwa jaana kahan')\n",
    "    print('Padti rahay yeh roshni')\n",
    "    print('Chalta rahay yeh karwan')\n",
    "    print()\n",
    "    print('   Dil dil Pakistan')\n",
    "    print('   Jaan jaan Pakistan')\n",
    "\n",
    "lyrics_dildilpakistan()                  # A single call to the function lyrics_dildilpakistan produces the output listed below."
   ]
  },
  {
   "cell_type": "code",
   "execution_count": 24,
   "metadata": {
    "slideshow": {
     "slide_type": "slide"
    }
   },
   "outputs": [],
   "source": [
    "# A function can be inside another function.\n",
    "# Suppose we want to create a function that repeats the Dil Dil Pakistan lyrics twice\n",
    "\n",
    "def lyrics_rep():\n",
    "    lyrics_dildilpakistan()\n",
    "    \n",
    "    print('********')                     # This is to insert a blank line\n",
    "    \n",
    "    lyrics_dildilpakistan()\n",
    "    \n"
   ]
  },
  {
   "cell_type": "code",
   "execution_count": 25,
   "metadata": {},
   "outputs": [
    {
     "name": "stdout",
     "output_type": "stream",
     "text": [
      "Aisi zameen aur aasman\n",
      "In kay siwa jaana kahan\n",
      "Padti rahay yeh roshni\n",
      "Chalta rahay yeh karwan\n",
      "\n",
      "   Dil dil Pakistan\n",
      "   Jaan jaan Pakistan\n",
      "********\n",
      "Aisi zameen aur aasman\n",
      "In kay siwa jaana kahan\n",
      "Padti rahay yeh roshni\n",
      "Chalta rahay yeh karwan\n",
      "\n",
      "   Dil dil Pakistan\n",
      "   Jaan jaan Pakistan\n"
     ]
    }
   ],
   "source": [
    "lyrics_rep()\n"
   ]
  },
  {
   "cell_type": "code",
   "execution_count": null,
   "metadata": {
    "slideshow": {
     "slide_type": "slide"
    }
   },
   "outputs": [],
   "source": [
    "# The function must be defined BEFORE making a call to it.\n",
    "\n",
    "# Exercise: Move the last line lyrics_rep() to the top of the program (before the function definition). \n",
    "# See what error you get."
   ]
  },
  {
   "cell_type": "markdown",
   "metadata": {
    "slideshow": {
     "slide_type": "slide"
    }
   },
   "source": [
    "## Function Parameters and Arguments"
   ]
  },
  {
   "cell_type": "code",
   "execution_count": 26,
   "metadata": {
    "slideshow": {
     "slide_type": "slide"
    }
   },
   "outputs": [
    {
     "name": "stdout",
     "output_type": "stream",
     "text": [
      "Spam\n",
      "Spam\n"
     ]
    }
   ],
   "source": [
    "# The arguments are assigned to variables called parameters\n",
    "# This function assigns an argument to a parameter named x.\n",
    "\n",
    "def print_twice(x):\n",
    "    print(x)\n",
    "    print(x)\n",
    "    \n",
    "print_twice('Spam')\n",
    "\n",
    "# Try to print twice the following \n",
    "#     17\n",
    "#     The value of pi (Hint: use math.pi as argument)"
   ]
  },
  {
   "cell_type": "code",
   "execution_count": 27,
   "metadata": {
    "slideshow": {
     "slide_type": "slide"
    }
   },
   "outputs": [
    {
     "name": "stdout",
     "output_type": "stream",
     "text": [
      "He is half human and half android\n",
      "He is half human and half android\n"
     ]
    }
   ],
   "source": [
    "# You can also use a variable as an argument\n",
    "\n",
    "ds = 'He is half human and half android'\n",
    "print_twice(ds)"
   ]
  },
  {
   "cell_type": "code",
   "execution_count": 76,
   "metadata": {
    "slideshow": {
     "slide_type": "slide"
    }
   },
   "outputs": [
    {
     "name": "stdout",
     "output_type": "stream",
     "text": [
      "Spam  Spam  Spam  \n",
      "Spam  Spam  Spam  \n"
     ]
    }
   ],
   "source": [
    "#Since the argument of the function is a string, it can be repeated (say) 3 times.  \n",
    "print_twice('Spam  '* 3)\n"
   ]
  },
  {
   "cell_type": "markdown",
   "metadata": {
    "slideshow": {
     "slide_type": "slide"
    }
   },
   "source": [
    "## Storing results returned by a function"
   ]
  },
  {
   "cell_type": "code",
   "execution_count": 100,
   "metadata": {
    "slideshow": {
     "slide_type": "slide"
    }
   },
   "outputs": [
    {
     "name": "stdout",
     "output_type": "stream",
     "text": [
      "x:\n",
      "0.7648421872844885\n",
      "golden:\n",
      "1.618033988749895\n",
      "bang\n",
      "bang\n",
      "result:\n",
      "None\n"
     ]
    },
    {
     "data": {
      "text/plain": [
       "NoneType"
      ]
     },
     "execution_count": 100,
     "metadata": {},
     "output_type": "execute_result"
    }
   ],
   "source": [
    "'''\n",
    "There are two kinds of functions:\n",
    "(a) Fruitful functions: that yield some result, e.g. return a value\n",
    "(b) Void functions: that perform an action but do not return a value\n",
    "\n",
    "If the results of fruitful function is not stored (in an variable, for example) the result is lost.\n",
    "If an attempt is made to asign the result of a void function to a variable, you get a special value called None. \n",
    "'''\n",
    "\n",
    "# consider the fruitful functions math.cos() and math.sqrt() below. result of each can be assigned to a variable\n",
    "radian= 0.7\n",
    "x = math.cos(radian)\n",
    "print('x:') \n",
    "print(x)\n",
    "\n",
    "golden = (math.sqrt(5) + 1)/2\n",
    "print('golden:')\n",
    "print(golden)\n",
    "\n",
    "# If we try to assign the reslt of a void function to a variable, we get None. 'None' is a specail value with its own type \n",
    "result = print_twice('bang')\n",
    "\n",
    "print('result:')\n",
    "print(result)\n",
    "\n",
    "type(result)"
   ]
  },
  {
   "cell_type": "code",
   "execution_count": 28,
   "metadata": {},
   "outputs": [],
   "source": [
    "#doubleint\n",
    "def doubleup(x):\n",
    "    return x*2"
   ]
  },
  {
   "cell_type": "code",
   "execution_count": 29,
   "metadata": {},
   "outputs": [
    {
     "data": {
      "text/plain": [
       "50"
      ]
     },
     "execution_count": 29,
     "metadata": {},
     "output_type": "execute_result"
    }
   ],
   "source": [
    "doubleup(25)"
   ]
  },
  {
   "cell_type": "code",
   "execution_count": 30,
   "metadata": {
    "slideshow": {
     "slide_type": "slide"
    }
   },
   "outputs": [],
   "source": [
    "### Return stetement in a function\n",
    "### To return a result from a function we add return statement to our function\n",
    "\n",
    "def add_two(a, b):\n",
    "    added = a + b\n",
    "    return added\n"
   ]
  },
  {
   "cell_type": "code",
   "execution_count": 31,
   "metadata": {},
   "outputs": [
    {
     "name": "stdout",
     "output_type": "stream",
     "text": [
      "8\n"
     ]
    }
   ],
   "source": [
    "\n",
    "x = add_two(3, 5)\n",
    "print(x)"
   ]
  },
  {
   "cell_type": "code",
   "execution_count": null,
   "metadata": {},
   "outputs": [],
   "source": []
  }
 ],
 "metadata": {
  "celltoolbar": "Slideshow",
  "kernelspec": {
   "display_name": "Python 3",
   "language": "python",
   "name": "python3"
  },
  "language_info": {
   "codemirror_mode": {
    "name": "ipython",
    "version": 3
   },
   "file_extension": ".py",
   "mimetype": "text/x-python",
   "name": "python",
   "nbconvert_exporter": "python",
   "pygments_lexer": "ipython3",
   "version": "3.8.5"
  }
 },
 "nbformat": 4,
 "nbformat_minor": 2
}
