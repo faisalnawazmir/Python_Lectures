{
 "cells": [
  {
   "cell_type": "markdown",
   "metadata": {},
   "source": [
    "# Module 5: Data Structures - Files"
   ]
  },
  {
   "cell_type": "code",
   "execution_count": 5,
   "metadata": {},
   "outputs": [
    {
     "name": "stdout",
     "output_type": "stream",
     "text": [
      "<_io.TextIOWrapper name='mbox.txt' mode='r' encoding='cp1252'>\n"
     ]
    }
   ],
   "source": [
    "'''\n",
    "The files are the secondary memory that is not erased even when the power is turned off.\n",
    "Files could be text files, like the ones in the examples below. Or, they could be binary\n",
    "files, such as databases. We will work with a text file called 'mbox.txt'\n",
    "\n",
    "Get the file 'mbox.txt'\n",
    "Download the file mbox.txt from https://www.py4e.com/code3/mbox.txt. Go to this website, open the file, select contents\n",
    "with ctrl-a, and copy with ctrl-c. \n",
    "\n",
    ">> Now go to Jupyter home >> File >> New (see upper right corner) >> in the dropdown menu \n",
    "select 'Text  File' >> this will open new text file >> paste copied contents of mbox.txt here with ctrl-v >> File >> \n",
    ">> Save (it will save as 'untitled1.txt' >> rename it as 'mbox.txt'\n",
    "The files are the secondary memory that is not erased even when the power is turned off.\n",
    "Files could be text files, like the ones in the examples below. Or, they could be binary\n",
    "files, such as databases. We will work with a text file called 'mbox.txt'\n",
    "\n",
    "Get the file 'mbox.txt'\n",
    "Download the file mbox.txt from https://www.py4e.com/code3/mbox.txt. Go to this website, open the file, select contents\n",
    "with ctrl-a, and copy with ctrl-c. \n",
    "\n",
    ">> Now go to Jupyter home >> File >> New (see upper right corner) >> in the dropdown menu \n",
    "select 'Text  File' >> this will open new text file >> paste copied contents of mbox.txt here with ctrl-v >> File >> \n",
    ">> Save (it will save as 'untitled1.txt' >> rename it as 'mbox.txt' \n",
    "'''\n",
    "\n",
    "# opening the file mbox.txt. If open is successful, operating system will return a file handle\n",
    "# file handle is not actual data contained in the file but it is a handle that can be used to read the file\n",
    "\n",
    "fhand = open('mbox.txt')    # assigning a name to the file handle\n",
    "print(fhand)\n"
   ]
  },
  {
   "cell_type": "markdown",
   "metadata": {},
   "source": [
    "# Text files and lines"
   ]
  },
  {
   "cell_type": "code",
   "execution_count": 7,
   "metadata": {},
   "outputs": [
    {
     "name": "stdout",
     "output_type": "stream",
     "text": [
      "break Hello World across lines:\n",
      " Hello\n",
      " World!\n"
     ]
    }
   ],
   "source": [
    "\"\"\"\n",
    "To break a file up in lines, the backslash-n character i.e. \"\\n\" is used. \n",
    "\"\"\"\n",
    "# The newline character (\\n)\n",
    "\n",
    "stuff = 'Hello\\n World!'\n",
    "print('break Hello World across lines:\\n', stuff)"
   ]
  },
  {
   "cell_type": "code",
   "execution_count": 6,
   "metadata": {},
   "outputs": [
    {
     "name": "stdout",
     "output_type": "stream",
     "text": [
      "break string acrosss lines:\n",
      " X\n",
      " Y\n"
     ]
    }
   ],
   "source": [
    "# break X \\n Y across lines. Note that backslash-n is also embedded in print() function\n",
    "stuff = 'X\\n Y'\n",
    "print('break string acrosss lines:\\n' , stuff)"
   ]
  },
  {
   "cell_type": "code",
   "execution_count": 7,
   "metadata": {},
   "outputs": [
    {
     "name": "stdout",
     "output_type": "stream",
     "text": [
      "length of the string 'stuff': 4\n"
     ]
    }
   ],
   "source": [
    "# finding length of string\n",
    "linelength= len(stuff)\n",
    "print(\"length of the string 'stuff':\", linelength)  "
   ]
  },
  {
   "cell_type": "markdown",
   "metadata": {},
   "source": [
    "# Reading files\n",
    "\n",
    "## Download file mbox-short.txt from www.py4e.com/code3/mbox-short.txt\n",
    "### Be careful. If the file is not copied to your python directory, it will not open"
   ]
  },
  {
   "cell_type": "code",
   "execution_count": 9,
   "metadata": {},
   "outputs": [
    {
     "name": "stdout",
     "output_type": "stream",
     "text": [
      "Line Count: 1910\n"
     ]
    }
   ],
   "source": [
    "# Counting lines in a file using a for-loop\n",
    "#The advantage of using the for-loop is that the size of the file does not matter, \n",
    "#as the loop goes through it one line at a time, \n",
    "#Also when a for-loop is used, python inserts a newline character after each line\n",
    "\n",
    "fhand = open('mbox-short.txt')\n",
    "count = 0\n",
    "for line in fhand:\n",
    "    count = count + 1\n",
    "print('Line Count:', count)"
   ]
  },
  {
   "cell_type": "code",
   "execution_count": null,
   "metadata": {},
   "outputs": [],
   "source": [
    "'''\n",
    "For small files, the read() method on the file handle can be used to read the whole file\n",
    "into a string\n",
    "'''\n",
    "\n",
    "fhand = open('mbox-short.txt')\n",
    "inp = fhand.read()\n",
    "print(len(inp))              # printing the length of the string\n",
    "\n",
    "# Reading first 20 characters in the string \n",
    "print(inp[:20])"
   ]
  },
  {
   "cell_type": "markdown",
   "metadata": {},
   "source": [
    "#     Searching through a file\n",
    "##          Example: finding a 'From:' line in a file consisting of email messages\n",
    "###           Use startswith() string method on each line "
   ]
  },
  {
   "cell_type": "code",
   "execution_count": 12,
   "metadata": {},
   "outputs": [
    {
     "data": {
      "text/plain": [
       "6"
      ]
     },
     "execution_count": 12,
     "metadata": {},
     "output_type": "execute_result"
    }
   ],
   "source": [
    "string='hello Taha how are you'\n",
    "string.find('Taha')"
   ]
  },
  {
   "cell_type": "code",
   "execution_count": 8,
   "metadata": {},
   "outputs": [
    {
     "name": "stdout",
     "output_type": "stream",
     "text": [
      "From: stephen.marquard@uct.ac.za\n",
      "\n",
      "From: louis@media.berkeley.edu\n",
      "\n",
      "From: zqian@umich.edu\n",
      "\n",
      "From: rjlowe@iupui.edu\n",
      "\n",
      "From: zqian@umich.edu\n",
      "\n",
      "From: rjlowe@iupui.edu\n",
      "\n",
      "From: cwen@iupui.edu\n",
      "\n",
      "From: cwen@iupui.edu\n",
      "\n",
      "From: gsilver@umich.edu\n",
      "\n",
      "From: gsilver@umich.edu\n",
      "\n",
      "From: zqian@umich.edu\n",
      "\n",
      "From: gsilver@umich.edu\n",
      "\n",
      "From: wagnermr@iupui.edu\n",
      "\n",
      "From: zqian@umich.edu\n",
      "\n",
      "From: antranig@caret.cam.ac.uk\n",
      "\n",
      "From: gopal.ramasammycook@gmail.com\n",
      "\n",
      "From: david.horwitz@uct.ac.za\n",
      "\n",
      "From: david.horwitz@uct.ac.za\n",
      "\n",
      "From: david.horwitz@uct.ac.za\n",
      "\n",
      "From: david.horwitz@uct.ac.za\n",
      "\n",
      "From: stephen.marquard@uct.ac.za\n",
      "\n",
      "From: louis@media.berkeley.edu\n",
      "\n",
      "From: louis@media.berkeley.edu\n",
      "\n",
      "From: ray@media.berkeley.edu\n",
      "\n",
      "From: cwen@iupui.edu\n",
      "\n",
      "From: cwen@iupui.edu\n",
      "\n",
      "From: cwen@iupui.edu\n",
      "\n"
     ]
    }
   ],
   "source": [
    "fhand = open('mbox-short.txt')\n",
    "\n",
    "for line in fhand:\n",
    "    if line.startswith('From:'):   \n",
    "        print(line)"
   ]
  },
  {
   "cell_type": "markdown",
   "metadata": {},
   "source": [
    "Use rstrip() string method to get rid of line double spacing\n",
    "There is a newline character at the end of each line. The rstrip method strips white space from the right-side of the string"
   ]
  },
  {
   "cell_type": "code",
   "execution_count": 11,
   "metadata": {},
   "outputs": [
    {
     "name": "stdout",
     "output_type": "stream",
     "text": [
      "From: stephen.marquard@uct.ac.za\n",
      "From: louis@media.berkeley.edu\n",
      "From: zqian@umich.edu\n",
      "From: rjlowe@iupui.edu\n",
      "From: zqian@umich.edu\n",
      "From: rjlowe@iupui.edu\n",
      "From: cwen@iupui.edu\n",
      "From: cwen@iupui.edu\n",
      "From: gsilver@umich.edu\n",
      "From: gsilver@umich.edu\n",
      "From: zqian@umich.edu\n",
      "From: gsilver@umich.edu\n",
      "From: wagnermr@iupui.edu\n",
      "From: zqian@umich.edu\n",
      "From: antranig@caret.cam.ac.uk\n",
      "From: gopal.ramasammycook@gmail.com\n",
      "From: david.horwitz@uct.ac.za\n",
      "From: david.horwitz@uct.ac.za\n",
      "From: david.horwitz@uct.ac.za\n",
      "From: david.horwitz@uct.ac.za\n",
      "From: stephen.marquard@uct.ac.za\n",
      "From: louis@media.berkeley.edu\n",
      "From: louis@media.berkeley.edu\n",
      "From: ray@media.berkeley.edu\n",
      "From: cwen@iupui.edu\n",
      "From: cwen@iupui.edu\n",
      "From: cwen@iupui.edu\n"
     ]
    }
   ],
   "source": [
    "fhand = open('mbox-short.txt')\n",
    "\n",
    "for line in fhand:\n",
    "    line = line.rstrip()\n",
    "    if line.startswith('From:'):   \n",
    "        print(line)"
   ]
  },
  {
   "cell_type": "markdown",
   "metadata": {},
   "source": [
    "Using the string method find()\n",
    "Finding emails with university of Cape Town address ( @uct.ac.za )¶\n"
   ]
  },
  {
   "cell_type": "code",
   "execution_count": 12,
   "metadata": {},
   "outputs": [
    {
     "name": "stdout",
     "output_type": "stream",
     "text": [
      "From stephen.marquard@uct.ac.za Sat Jan  5 09:14:16 2008\n",
      "X-Authentication-Warning: nakamura.uits.iupui.edu: apache set sender to stephen.marquard@uct.ac.za using -f\n",
      "From: stephen.marquard@uct.ac.za\n",
      "Author: stephen.marquard@uct.ac.za\n",
      "From david.horwitz@uct.ac.za Fri Jan  4 07:02:32 2008\n",
      "X-Authentication-Warning: nakamura.uits.iupui.edu: apache set sender to david.horwitz@uct.ac.za using -f\n",
      "From: david.horwitz@uct.ac.za\n",
      "Author: david.horwitz@uct.ac.za\n",
      "r39753 | david.horwitz@uct.ac.za | 2008-01-04 13:05:51 +0200 (Fri, 04 Jan 2008) | 1 line\n",
      "From david.horwitz@uct.ac.za Fri Jan  4 06:08:27 2008\n",
      "X-Authentication-Warning: nakamura.uits.iupui.edu: apache set sender to david.horwitz@uct.ac.za using -f\n",
      "From: david.horwitz@uct.ac.za\n",
      "Author: david.horwitz@uct.ac.za\n",
      "From david.horwitz@uct.ac.za Fri Jan  4 04:49:08 2008\n",
      "X-Authentication-Warning: nakamura.uits.iupui.edu: apache set sender to david.horwitz@uct.ac.za using -f\n",
      "From: david.horwitz@uct.ac.za\n",
      "Author: david.horwitz@uct.ac.za\n",
      "From david.horwitz@uct.ac.za Fri Jan  4 04:33:44 2008\n",
      "X-Authentication-Warning: nakamura.uits.iupui.edu: apache set sender to david.horwitz@uct.ac.za using -f\n",
      "From: david.horwitz@uct.ac.za\n",
      "Author: david.horwitz@uct.ac.za\n",
      "From stephen.marquard@uct.ac.za Fri Jan  4 04:07:34 2008\n",
      "X-Authentication-Warning: nakamura.uits.iupui.edu: apache set sender to stephen.marquard@uct.ac.za using -f\n",
      "From: stephen.marquard@uct.ac.za\n",
      "Author: stephen.marquard@uct.ac.za\n"
     ]
    }
   ],
   "source": [
    "'''\n",
    "The string method find() returns the position of substring within a string that we are \n",
    "looking for alternatively it returns -1 if the substring is not found\n",
    "'''\n",
    "# Our strategy is to skip printing if '@uct.ac.za' substring not found, \n",
    "#i.e. find() returns -1\n",
    "\n",
    "fhand = open('mbox-short.txt')\n",
    "\n",
    "for line in fhand:\n",
    "    line = line.rstrip()\n",
    "    if line.find('@uct.ac.za') == -1:\n",
    "        continue        #skip remaining lines in body of loop when if-condition false\n",
    "    print(line)"
   ]
  },
  {
   "cell_type": "markdown",
   "metadata": {},
   "source": [
    "# Writing files\n",
    "\n",
    "Open file with mode \"w\" as the second parameter\n"
   ]
  },
  {
   "cell_type": "code",
   "execution_count": 13,
   "metadata": {},
   "outputs": [
    {
     "name": "stdout",
     "output_type": "stream",
     "text": [
      "Print file handle:\n",
      "  <_io.TextIOWrapper name='output.txt' mode='w' encoding='cp1252'>\n",
      "\n"
     ]
    }
   ],
   "source": [
    "\"\"\"\n",
    "To write file you have to first open it with \"w\", and create a file handle\n",
    "Then add lines to it using write() method of the file handle object\n",
    "\n",
    "Suppose we want to create anew file 'output.txt' and then add lines to it one by one\n",
    "\"\"\"\n",
    "\n",
    "# creating file handle object with open() command anad 'w' as second parameter\n",
    "fout = open('output.txt', 'w')\n",
    "print('Print file handle:\\n ', fout)\n",
    "print()\n",
    "\n",
    "# Now add lines to file 'output.txt' for which a file handle object 'fout' has been created above\n",
    "# use write() method for the file handle object to add lines\n",
    "# note the write() method will also returns the number of characters written\n",
    "\n",
    "line1 = \"This here's the wattle, \\n\"\n",
    "fout.write(line1)\n",
    "\n",
    "line2 = 'the emblem of our land. \\n'\n",
    "fout.write(line2)\n",
    "\n",
    "# close the file\n",
    "fout.close()\n",
    "\n",
    "# Now lets count how many lines there are in output.txt\n",
    "# We have to open it and create a file handle object first, then write a for-loop to count lines\n",
    "\n",
    "fhand = open('output.txt')\n",
    "count = 0\n",
    "for line in fhand:\n",
    "    count = count + 1\n",
    "    print(line)\n",
    "print('The number of lines in the file output.txt is: ', count)\n",
    "\n",
    "\n",
    "\n",
    "fout = open('output.txt', 'w')\n",
    "print('Print file handle:\\n ', fout)\n",
    "print()"
   ]
  },
  {
   "cell_type": "code",
   "execution_count": 14,
   "metadata": {},
   "outputs": [],
   "source": [
    "# Now add lines to file 'output.txt' for which a file handle object 'fout' has been created above\n",
    "# use write() method for the file handle object to add lines\n",
    "# note the write() method will also returns the number of characters written\n",
    "\n",
    "line1 = \"This here's the wattle, \\n\"\n",
    "fout.write(line1)\n",
    "\n",
    "line2 = 'the emblem of our land. \\n'\n",
    "fout.write(line2)\n",
    "\n",
    "# close the file\n",
    "fout.close()"
   ]
  },
  {
   "cell_type": "code",
   "execution_count": 15,
   "metadata": {},
   "outputs": [
    {
     "name": "stdout",
     "output_type": "stream",
     "text": [
      "This here's the wattle, \n",
      "\n",
      "the emblem of our land. \n",
      "\n",
      "The number of lines in the file output.txt is:  2\n"
     ]
    }
   ],
   "source": [
    "# Check whether write to file\n",
    "output=r'C:/Users/Mir/output.txt'\n",
    "with open(output, 'r') as testwritefile:\n",
    "    print(testwritefile.read())"
   ]
  },
  {
   "cell_type": "markdown",
   "metadata": {},
   "source": [
    "## Wrting python variable to the file"
   ]
  },
  {
   "cell_type": "code",
   "execution_count": 12,
   "metadata": {},
   "outputs": [],
   "source": [
    "import numpy as np\n",
    "import pandas as pd\n",
    "df=pd.DataFrame(data=[[1,2,3,4,5]]*5, index=range(0,5),columns=['a','b','c','d','e'])\n"
   ]
  },
  {
   "cell_type": "code",
   "execution_count": 13,
   "metadata": {},
   "outputs": [
    {
     "data": {
      "text/html": [
       "<div>\n",
       "<style scoped>\n",
       "    .dataframe tbody tr th:only-of-type {\n",
       "        vertical-align: middle;\n",
       "    }\n",
       "\n",
       "    .dataframe tbody tr th {\n",
       "        vertical-align: top;\n",
       "    }\n",
       "\n",
       "    .dataframe thead th {\n",
       "        text-align: right;\n",
       "    }\n",
       "</style>\n",
       "<table border=\"1\" class=\"dataframe\">\n",
       "  <thead>\n",
       "    <tr style=\"text-align: right;\">\n",
       "      <th></th>\n",
       "      <th>a</th>\n",
       "      <th>b</th>\n",
       "      <th>c</th>\n",
       "      <th>d</th>\n",
       "      <th>e</th>\n",
       "    </tr>\n",
       "  </thead>\n",
       "  <tbody>\n",
       "    <tr>\n",
       "      <th>0</th>\n",
       "      <td>1</td>\n",
       "      <td>2</td>\n",
       "      <td>3</td>\n",
       "      <td>4</td>\n",
       "      <td>5</td>\n",
       "    </tr>\n",
       "    <tr>\n",
       "      <th>1</th>\n",
       "      <td>1</td>\n",
       "      <td>2</td>\n",
       "      <td>3</td>\n",
       "      <td>4</td>\n",
       "      <td>5</td>\n",
       "    </tr>\n",
       "    <tr>\n",
       "      <th>2</th>\n",
       "      <td>1</td>\n",
       "      <td>2</td>\n",
       "      <td>3</td>\n",
       "      <td>4</td>\n",
       "      <td>5</td>\n",
       "    </tr>\n",
       "    <tr>\n",
       "      <th>3</th>\n",
       "      <td>1</td>\n",
       "      <td>2</td>\n",
       "      <td>3</td>\n",
       "      <td>4</td>\n",
       "      <td>5</td>\n",
       "    </tr>\n",
       "    <tr>\n",
       "      <th>4</th>\n",
       "      <td>1</td>\n",
       "      <td>2</td>\n",
       "      <td>3</td>\n",
       "      <td>4</td>\n",
       "      <td>5</td>\n",
       "    </tr>\n",
       "  </tbody>\n",
       "</table>\n",
       "</div>"
      ],
      "text/plain": [
       "   a  b  c  d  e\n",
       "0  1  2  3  4  5\n",
       "1  1  2  3  4  5\n",
       "2  1  2  3  4  5\n",
       "3  1  2  3  4  5\n",
       "4  1  2  3  4  5"
      ]
     },
     "execution_count": 13,
     "metadata": {},
     "output_type": "execute_result"
    }
   ],
   "source": [
    "df"
   ]
  },
  {
   "cell_type": "code",
   "execution_count": 14,
   "metadata": {},
   "outputs": [],
   "source": [
    "sum=df.sum()\n",
    "sum"
   ]
  },
  {
   "cell_type": "code",
   "execution_count": 20,
   "metadata": {},
   "outputs": [
    {
     "ename": "TypeError",
     "evalue": "write() argument must be str, not Series",
     "output_type": "error",
     "traceback": [
      "\u001b[1;31m---------------------------------------------------------------------------\u001b[0m",
      "\u001b[1;31mTypeError\u001b[0m                                 Traceback (most recent call last)",
      "\u001b[1;32m<ipython-input-20-a971990bb2f9>\u001b[0m in \u001b[0;36m<module>\u001b[1;34m\u001b[0m\n\u001b[0;32m      1\u001b[0m \u001b[1;32mwith\u001b[0m \u001b[0mopen\u001b[0m\u001b[1;33m(\u001b[0m\u001b[1;34m'report.txt'\u001b[0m\u001b[1;33m,\u001b[0m\u001b[1;34m'w+'\u001b[0m\u001b[1;33m)\u001b[0m \u001b[1;32mas\u001b[0m \u001b[0mfile\u001b[0m\u001b[1;33m:\u001b[0m\u001b[1;33m\u001b[0m\u001b[1;33m\u001b[0m\u001b[0m\n\u001b[0;32m      2\u001b[0m     \u001b[0mfile\u001b[0m\u001b[1;33m.\u001b[0m\u001b[0mwrite\u001b[0m\u001b[1;33m(\u001b[0m\u001b[1;34m\"This is to report the sum, \\n\"\u001b[0m\u001b[1;33m)\u001b[0m\u001b[1;33m\u001b[0m\u001b[1;33m\u001b[0m\u001b[0m\n\u001b[1;32m----> 3\u001b[1;33m     \u001b[0mfile\u001b[0m\u001b[1;33m.\u001b[0m\u001b[0mwrite\u001b[0m\u001b[1;33m(\u001b[0m\u001b[0msum\u001b[0m\u001b[1;33m)\u001b[0m\u001b[1;33m\u001b[0m\u001b[1;33m\u001b[0m\u001b[0m\n\u001b[0m\u001b[0;32m      4\u001b[0m     \u001b[0mfile\u001b[0m\u001b[1;33m.\u001b[0m\u001b[0mwrite\u001b[0m\u001b[1;33m(\u001b[0m\u001b[1;34m\"\\n************\"\u001b[0m\u001b[1;33m)\u001b[0m\u001b[1;33m\u001b[0m\u001b[1;33m\u001b[0m\u001b[0m\n\u001b[0;32m      5\u001b[0m \u001b[1;33m\u001b[0m\u001b[0m\n",
      "\u001b[1;31mTypeError\u001b[0m: write() argument must be str, not Series"
     ]
    }
   ],
   "source": [
    "with open('report.txt','w+') as file:\n",
    "    file.write(\"This is to report the sum, \\n\")\n",
    "    file.write(sum)\n",
    "    file.write(\"\\n************\")  \n",
    "\n"
   ]
  },
  {
   "cell_type": "code",
   "execution_count": null,
   "metadata": {},
   "outputs": [],
   "source": [
    "sum_rep=repr(sum)\n",
    "type(sum_rep)"
   ]
  },
  {
   "cell_type": "code",
   "execution_count": 21,
   "metadata": {},
   "outputs": [],
   "source": [
    "with open('report.txt','w+') as file:\n",
    "    file.write(\"This is to report the sum, \\n\")\n",
    "    file.write(sum_rep)\n",
    "    file.write(\"\\n************\")"
   ]
  },
  {
   "cell_type": "code",
   "execution_count": 22,
   "metadata": {},
   "outputs": [],
   "source": [
    "with open('report.txt','a') as file:\n",
    "    file.write(\"Here is how to append line, \\n\")\n",
    "    file.write(\"\\n************\")"
   ]
  },
  {
   "cell_type": "code",
   "execution_count": 24,
   "metadata": {},
   "outputs": [],
   "source": [
    "# Erasing the file contents of a text file will result in an empty text file.\n",
    "with open('report.txt',\"r+\") as file:\n",
    "    file.truncate(0)\n",
    "    "
   ]
  },
  {
   "cell_type": "code",
   "execution_count": null,
   "metadata": {},
   "outputs": [],
   "source": []
  }
 ],
 "metadata": {
  "kernelspec": {
   "display_name": "Python 3",
   "language": "python",
   "name": "python3"
  },
  "language_info": {
   "codemirror_mode": {
    "name": "ipython",
    "version": 3
   },
   "file_extension": ".py",
   "mimetype": "text/x-python",
   "name": "python",
   "nbconvert_exporter": "python",
   "pygments_lexer": "ipython3",
   "version": "3.8.5"
  }
 },
 "nbformat": 4,
 "nbformat_minor": 4
}
