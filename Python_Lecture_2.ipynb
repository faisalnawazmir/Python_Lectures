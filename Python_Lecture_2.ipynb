{
  "nbformat": 4,
  "nbformat_minor": 0,
  "metadata": {
    "colab": {
      "name": "Python_Lecture_2.ipynb",
      "provenance": [],
      "authorship_tag": "ABX9TyNt4INUc0j5435mqfaKnC7M",
      "include_colab_link": true
    },
    "kernelspec": {
      "name": "python3",
      "display_name": "Python 3"
    }
  },
  "cells": [
    {
      "cell_type": "markdown",
      "metadata": {
        "id": "view-in-github",
        "colab_type": "text"
      },
      "source": [
        "<a href=\"https://colab.research.google.com/github/faisalnawazmir/Python_Lectures/blob/main/Python_Lecture_2.ipynb\" target=\"_parent\"><img src=\"https://colab.research.google.com/assets/colab-badge.svg\" alt=\"Open In Colab\"/></a>"
      ]
    },
    {
      "cell_type": "markdown",
      "metadata": {
        "id": "_QmLYmgCc5bL"
      },
      "source": [
        "#Conditional execution"
      ]
    },
    {
      "cell_type": "markdown",
      "metadata": {
        "id": "ysgCBDhGc67c"
      },
      "source": [
        "#1. Boolean expressions"
      ]
    },
    {
      "cell_type": "markdown",
      "metadata": {
        "id": "nWcFiKxQdP7t"
      },
      "source": [
        "A boolean expression is an expression that is either true or false."
      ]
    },
    {
      "cell_type": "code",
      "metadata": {
        "id": "raIgUMrHf6GW",
        "outputId": "49c88e0d-a9d1-4fcf-fe01-f492bde0a94d",
        "colab": {
          "base_uri": "https://localhost:8080/",
          "height": 33
        }
      },
      "source": [
        "5==5 # Remember that = is an assignment operator and == is a comparison operator."
      ],
      "execution_count": null,
      "outputs": [
        {
          "output_type": "execute_result",
          "data": {
            "text/plain": [
              "True"
            ]
          },
          "metadata": {
            "tags": []
          },
          "execution_count": 2
        }
      ]
    },
    {
      "cell_type": "code",
      "metadata": {
        "id": "bHnV_NQugYHm",
        "outputId": "fa3b069f-96a0-48cf-afc9-3be30c3e15b9",
        "colab": {
          "base_uri": "https://localhost:8080/",
          "height": 33
        }
      },
      "source": [
        "5==6"
      ],
      "execution_count": null,
      "outputs": [
        {
          "output_type": "execute_result",
          "data": {
            "text/plain": [
              "False"
            ]
          },
          "metadata": {
            "tags": []
          },
          "execution_count": 3
        }
      ]
    },
    {
      "cell_type": "code",
      "metadata": {
        "id": "FfhUoe72gi49",
        "outputId": "14e79357-7326-4867-b26a-e240f4368231",
        "colab": {
          "base_uri": "https://localhost:8080/",
          "height": 34
        }
      },
      "source": [
        "type(True)"
      ],
      "execution_count": 1,
      "outputs": [
        {
          "output_type": "execute_result",
          "data": {
            "text/plain": [
              "bool"
            ]
          },
          "metadata": {
            "tags": []
          },
          "execution_count": 1
        }
      ]
    },
    {
      "cell_type": "markdown",
      "metadata": {
        "id": "f-qU8rwFgp0j"
      },
      "source": [
        "The == operator is one of the comparison operators; the others are:\n",
        "x != y # x is not equal to y \n",
        "\n",
        "x > y # x is greater than y \n",
        "\n",
        "x < y # x is less than y \n",
        "\n",
        "x >= y # x is greater than or equal to y \n",
        "\n",
        "x <= y # x is less than or equal to y \n",
        "\n",
        "x is y # x is the same as y \n",
        "\n",
        "x is not y # x is not the same as y\n"
      ]
    },
    {
      "cell_type": "code",
      "metadata": {
        "id": "VvcbV6_-gqkn"
      },
      "source": [
        ""
      ],
      "execution_count": null,
      "outputs": []
    },
    {
      "cell_type": "markdown",
      "metadata": {
        "id": "n66hdFynhRAb"
      },
      "source": [
        "#2. Logical operators\n"
      ]
    },
    {
      "cell_type": "markdown",
      "metadata": {
        "id": "LTE4edtlhV9A"
      },
      "source": [
        "There are three logical operators: **and, or, and not**. \n",
        "For example,\n",
        "x > 0 and x < 10\n",
        "is true only if x is greater than 0 and less than 10."
      ]
    },
    {
      "cell_type": "code",
      "metadata": {
        "id": "Xr5NY5QDee1a"
      },
      "source": [
        "x=2"
      ],
      "execution_count": 4,
      "outputs": []
    },
    {
      "cell_type": "code",
      "metadata": {
        "id": "sVSqtG3ihWuZ",
        "outputId": "1a47c684-16d9-4c32-95c2-68474209734b",
        "colab": {
          "base_uri": "https://localhost:8080/",
          "height": 34
        }
      },
      "source": [
        "x > 0 and x < 10"
      ],
      "execution_count": 5,
      "outputs": [
        {
          "output_type": "execute_result",
          "data": {
            "text/plain": [
              "True"
            ]
          },
          "metadata": {
            "tags": []
          },
          "execution_count": 5
        }
      ]
    },
    {
      "cell_type": "markdown",
      "metadata": {
        "id": "07lZMn-Ie45F"
      },
      "source": [
        "Similarly, n%2 == 0 or n%3 == 0 is true if either of the conditions is true, that is, if the\n",
        "number is **divisible by 2 or 3**."
      ]
    },
    {
      "cell_type": "code",
      "metadata": {
        "id": "oaORJ0BMe_50"
      },
      "source": [
        "n=7"
      ],
      "execution_count": 8,
      "outputs": []
    },
    {
      "cell_type": "code",
      "metadata": {
        "id": "T6zmeyJ-fAl5",
        "outputId": "05f7c8a7-7af6-4df9-820e-1acebbe7b859",
        "colab": {
          "base_uri": "https://localhost:8080/",
          "height": 34
        }
      },
      "source": [
        "n%2 == 0 or n%3 == 0"
      ],
      "execution_count": 9,
      "outputs": [
        {
          "output_type": "execute_result",
          "data": {
            "text/plain": [
              "False"
            ]
          },
          "metadata": {
            "tags": []
          },
          "execution_count": 9
        }
      ]
    },
    {
      "cell_type": "markdown",
      "metadata": {
        "id": "sIk1nE1AfUrB"
      },
      "source": [
        "Finaly, The **not** operator negates a boolean expression, so not (x > y) is true if\n",
        "x > y is false; that is, if x is less than or equal to y."
      ]
    },
    {
      "cell_type": "code",
      "metadata": {
        "id": "dp6qZPY9faWO"
      },
      "source": [
        "x=10\n",
        "y=5"
      ],
      "execution_count": 12,
      "outputs": []
    },
    {
      "cell_type": "code",
      "metadata": {
        "id": "x9mlRet4faus",
        "outputId": "57db3413-a905-4f3b-ec82-b38699798534",
        "colab": {
          "base_uri": "https://localhost:8080/",
          "height": 34
        }
      },
      "source": [
        "not(x>y)"
      ],
      "execution_count": 13,
      "outputs": [
        {
          "output_type": "execute_result",
          "data": {
            "text/plain": [
              "False"
            ]
          },
          "metadata": {
            "tags": []
          },
          "execution_count": 13
        }
      ]
    },
    {
      "cell_type": "markdown",
      "metadata": {
        "id": "iy5vS6zIf3x0"
      },
      "source": [
        "Strictly speaking, the operands of the logical operators should be boolean expressions,\n",
        "but Python is not very strict. Any nonzero number is interpreted as “true.”\n"
      ]
    },
    {
      "cell_type": "code",
      "metadata": {
        "id": "SUrA_ANLf6DO"
      },
      "source": [
        ""
      ],
      "execution_count": null,
      "outputs": []
    },
    {
      "cell_type": "code",
      "metadata": {
        "id": "mP9RktZ0f6N-",
        "outputId": "18c24ee7-e838-4386-8469-449e8c99679b",
        "colab": {
          "base_uri": "https://localhost:8080/",
          "height": 34
        }
      },
      "source": [
        "10 and True"
      ],
      "execution_count": 14,
      "outputs": [
        {
          "output_type": "execute_result",
          "data": {
            "text/plain": [
              "True"
            ]
          },
          "metadata": {
            "tags": []
          },
          "execution_count": 14
        }
      ]
    },
    {
      "cell_type": "markdown",
      "metadata": {
        "id": "FMVUv2uThzZ1"
      },
      "source": [
        "#3. Conditional execution\n"
      ]
    },
    {
      "cell_type": "markdown",
      "metadata": {
        "id": "MQAIua8HggVL"
      },
      "source": [
        "The boolean expression after the if statement is called the condition. We end the\n",
        "**if** statement with a colon character (:) and the line(s) after the if statement are\n",
        "indented. If the logical condition is true, then the indented statement gets executed. If the\n",
        "logical condition is false, the indented statement is skipped."
      ]
    },
    {
      "cell_type": "code",
      "metadata": {
        "id": "QslfGVhYh3ec"
      },
      "source": [
        "x=-10\n",
        "if x>0:\n",
        "  print('x is positive')"
      ],
      "execution_count": null,
      "outputs": []
    },
    {
      "cell_type": "markdown",
      "metadata": {
        "id": "Sisy9iduhE7p"
      },
      "source": [
        "There must be at least one statement in if. Occasionally, it is useful to have a body with no\n",
        "statements. In that\n",
        "case, you can use the pass statement, which does nothing."
      ]
    },
    {
      "cell_type": "code",
      "metadata": {
        "id": "-wOsDD4ChUK2"
      },
      "source": [
        "if x < 0 :\n",
        "  pass # need to handle negative values!"
      ],
      "execution_count": 16,
      "outputs": []
    },
    {
      "cell_type": "markdown",
      "metadata": {
        "id": "oJgCrDvCuMXh"
      },
      "source": [
        "# 4 Alternative execution"
      ]
    },
    {
      "cell_type": "markdown",
      "metadata": {
        "id": "e7m6fSoQxy3q"
      },
      "source": [
        "A second form of the if statement is alternative execution, in which there are **two\n",
        "possibilities** and the condition determines which one gets executed."
      ]
    },
    {
      "cell_type": "code",
      "metadata": {
        "id": "YFOC2f__ihax",
        "outputId": "b3fbebc6-1ca0-4a69-b93d-48ffb605f55d",
        "colab": {
          "base_uri": "https://localhost:8080/",
          "height": 33
        }
      },
      "source": [
        "x=9\n",
        "if x%2==0:\n",
        "  print('x is even')\n",
        "else:\n",
        "  print('x is odd')"
      ],
      "execution_count": null,
      "outputs": [
        {
          "output_type": "stream",
          "text": [
            "x is odd\n"
          ],
          "name": "stdout"
        }
      ]
    },
    {
      "cell_type": "markdown",
      "metadata": {
        "id": "TYU3g1LLHV0N"
      },
      "source": [
        "#5 Chained conditionals"
      ]
    },
    {
      "cell_type": "markdown",
      "metadata": {
        "id": "tfn4fFtzHkHj"
      },
      "source": [
        "Sometimes there are more than two possibilities and we need more than two\n",
        "branches. One way to express a computation like that is a chained conditional:"
      ]
    },
    {
      "cell_type": "code",
      "metadata": {
        "id": "LtME1Hflj31h"
      },
      "source": [
        "x=10\n",
        "y=2"
      ],
      "execution_count": null,
      "outputs": []
    },
    {
      "cell_type": "code",
      "metadata": {
        "id": "eRfwVwv2kVMV",
        "outputId": "2a18e357-94bc-4d32-e43e-52e12ab20847",
        "colab": {
          "base_uri": "https://localhost:8080/",
          "height": 33
        }
      },
      "source": [
        "if x<y:\n",
        "  print('x is less than y')\n",
        "elif x>y:\n",
        "  print('x is greater than y')\n",
        "else:\n",
        "  print(' x is equal to y')"
      ],
      "execution_count": null,
      "outputs": [
        {
          "output_type": "stream",
          "text": [
            "x is greater than y\n"
          ],
          "name": "stdout"
        }
      ]
    },
    {
      "cell_type": "markdown",
      "metadata": {
        "id": "ZumHPd2nOBRt"
      },
      "source": [
        "Note that **elif** is an abbreviation of ***else if***."
      ]
    },
    {
      "cell_type": "markdown",
      "metadata": {
        "id": "npwDj5cfOYS9"
      },
      "source": [
        "## 6 Nested conditionals"
      ]
    },
    {
      "cell_type": "markdown",
      "metadata": {
        "id": "iBmVCu9_OjNH"
      },
      "source": [
        "One conditional can also be nested within another."
      ]
    },
    {
      "cell_type": "code",
      "metadata": {
        "id": "AT3wyOCDanIX"
      },
      "source": [
        "x=5\n",
        "y=10"
      ],
      "execution_count": 18,
      "outputs": []
    },
    {
      "cell_type": "code",
      "metadata": {
        "id": "LNT1pb9IlfKd",
        "outputId": "2bef7eaf-22cd-4af4-daed-e122cc0fe98c",
        "colab": {
          "base_uri": "https://localhost:8080/",
          "height": 34
        }
      },
      "source": [
        "if x == y:\n",
        "  print('x and y are equal')\n",
        "else:\n",
        "  if x < y:\n",
        "    print('x is less than y')\n",
        "  else:\n",
        "    print('x is greater than y')"
      ],
      "execution_count": 19,
      "outputs": [
        {
          "output_type": "stream",
          "text": [
            "x is less than y\n"
          ],
          "name": "stdout"
        }
      ]
    },
    {
      "cell_type": "code",
      "metadata": {
        "id": "xcdulEQalhAZ",
        "outputId": "7ead42dc-30b0-4ba9-dc91-23c2cc5406d9",
        "colab": {
          "base_uri": "https://localhost:8080/",
          "height": 34
        }
      },
      "source": [
        "if 0 < x:\n",
        "  if x < 10:\n",
        "    print('x is a positive single-digit number.')"
      ],
      "execution_count": 20,
      "outputs": [
        {
          "output_type": "stream",
          "text": [
            "x is a positive single-digit number.\n"
          ],
          "name": "stdout"
        }
      ]
    },
    {
      "cell_type": "markdown",
      "metadata": {
        "id": "aaB_9gtzbRNz"
      },
      "source": [
        "The print statement is executed only if we make it past both conditionals, so we\n",
        "can get the same effect with the **and** operator"
      ]
    },
    {
      "cell_type": "markdown",
      "metadata": {
        "id": "nasMjAzoa9Gs"
      },
      "source": [
        "Logical operators often provide a way to simplify **nested** conditional statements."
      ]
    },
    {
      "cell_type": "code",
      "metadata": {
        "id": "2nguzITXkjIZ",
        "outputId": "a15c255e-9d02-4cd6-9094-ef6347ece7f0",
        "colab": {
          "base_uri": "https://localhost:8080/",
          "height": 34
        }
      },
      "source": [
        "if x>0 and x<10:\n",
        "  print('x is positive single-digit number.')"
      ],
      "execution_count": 21,
      "outputs": [
        {
          "output_type": "stream",
          "text": [
            "x is positive single-digit number.\n"
          ],
          "name": "stdout"
        }
      ]
    },
    {
      "cell_type": "markdown",
      "metadata": {
        "id": "oHmYMsBSckgl"
      },
      "source": [
        "#7 Catching exceptions using try and except"
      ]
    },
    {
      "cell_type": "markdown",
      "metadata": {
        "id": "q6Zf01Fsc1YC"
      },
      "source": [
        "Here is a sample program to convert a Fahrenheit temperature to a Celsius temperature:"
      ]
    },
    {
      "cell_type": "code",
      "metadata": {
        "id": "oad_0mLac3O7",
        "outputId": "584ff71c-2ed8-4453-f678-8368f67e1848",
        "colab": {
          "base_uri": "https://localhost:8080/",
          "height": 52
        }
      },
      "source": [
        "inp = input('Enter Fahrenheit Temperature: ')\n",
        "fahr = float(inp)\n",
        "cel = (fahr - 32.0) * 5.0 / 9.0\n",
        "print(cel)"
      ],
      "execution_count": 22,
      "outputs": [
        {
          "output_type": "stream",
          "text": [
            "Enter Fahrenheit Temperature: 50\n",
            "10.0\n"
          ],
          "name": "stdout"
        }
      ]
    },
    {
      "cell_type": "markdown",
      "metadata": {
        "id": "JAyYgNHBdCcp"
      },
      "source": [
        "If we execute this code and give it **invalid input**, it simply fails with an unfriendly *error message*."
      ]
    },
    {
      "cell_type": "code",
      "metadata": {
        "id": "7apQH4Rncocn",
        "outputId": "27657695-4e97-4deb-a0bb-87b92db169bc",
        "colab": {
          "base_uri": "https://localhost:8080/",
          "height": 235
        }
      },
      "source": [
        "inp = input('Enter Fahrenheit Temperature: ')\n",
        "fahr = float(inp)\n",
        "cel = (fahr - 32.0) * 5.0 / 9.0\n",
        "print(cel)"
      ],
      "execution_count": 23,
      "outputs": [
        {
          "output_type": "stream",
          "text": [
            "Enter Fahrenheit Temperature: mir\n"
          ],
          "name": "stdout"
        },
        {
          "output_type": "error",
          "ename": "ValueError",
          "evalue": "ignored",
          "traceback": [
            "\u001b[0;31m---------------------------------------------------------------------------\u001b[0m",
            "\u001b[0;31mValueError\u001b[0m                                Traceback (most recent call last)",
            "\u001b[0;32m<ipython-input-23-80d6b30e784e>\u001b[0m in \u001b[0;36m<module>\u001b[0;34m()\u001b[0m\n\u001b[1;32m      1\u001b[0m \u001b[0minp\u001b[0m \u001b[0;34m=\u001b[0m \u001b[0minput\u001b[0m\u001b[0;34m(\u001b[0m\u001b[0;34m'Enter Fahrenheit Temperature: '\u001b[0m\u001b[0;34m)\u001b[0m\u001b[0;34m\u001b[0m\u001b[0;34m\u001b[0m\u001b[0m\n\u001b[0;32m----> 2\u001b[0;31m \u001b[0mfahr\u001b[0m \u001b[0;34m=\u001b[0m \u001b[0mfloat\u001b[0m\u001b[0;34m(\u001b[0m\u001b[0minp\u001b[0m\u001b[0;34m)\u001b[0m\u001b[0;34m\u001b[0m\u001b[0;34m\u001b[0m\u001b[0m\n\u001b[0m\u001b[1;32m      3\u001b[0m \u001b[0mcel\u001b[0m \u001b[0;34m=\u001b[0m \u001b[0;34m(\u001b[0m\u001b[0mfahr\u001b[0m \u001b[0;34m-\u001b[0m \u001b[0;36m32.0\u001b[0m\u001b[0;34m)\u001b[0m \u001b[0;34m*\u001b[0m \u001b[0;36m5.0\u001b[0m \u001b[0;34m/\u001b[0m \u001b[0;36m9.0\u001b[0m\u001b[0;34m\u001b[0m\u001b[0;34m\u001b[0m\u001b[0m\n\u001b[1;32m      4\u001b[0m \u001b[0mprint\u001b[0m\u001b[0;34m(\u001b[0m\u001b[0mcel\u001b[0m\u001b[0;34m)\u001b[0m\u001b[0;34m\u001b[0m\u001b[0;34m\u001b[0m\u001b[0m\n",
            "\u001b[0;31mValueError\u001b[0m: could not convert string to float: 'mir'"
          ]
        }
      ]
    },
    {
      "cell_type": "markdown",
      "metadata": {
        "id": "mnnOEt71dWmo"
      },
      "source": [
        "There is a conditional execution structure built into Python to handle these types\n",
        "of **expected and unexpected errors** called “try / except”.\n",
        "You can think of the try and except feature in Python as an **insurance policy**\n",
        "on a sequence of statements."
      ]
    },
    {
      "cell_type": "code",
      "metadata": {
        "id": "-mxbFFg_ienk",
        "outputId": "5d9b880d-065a-40a9-b130-fa14e484f2dc",
        "colab": {
          "base_uri": "https://localhost:8080/",
          "height": 52
        }
      },
      "source": [
        "inp = input('Enter Fahrenheit Temperature:')\n",
        "try:\n",
        "    fahr = float(inp)\n",
        "    cel = (fahr - 32.0) * 5.0 / 9.0\n",
        "    print(cel)\n",
        "except:\n",
        "    print('Please enter a number')"
      ],
      "execution_count": 26,
      "outputs": [
        {
          "output_type": "stream",
          "text": [
            "Enter Fahrenheit Temperature:mir\n",
            "Please enter a number\n"
          ],
          "name": "stdout"
        }
      ]
    },
    {
      "cell_type": "markdown",
      "metadata": {
        "id": "dgG8zNJ2eL6X"
      },
      "source": [
        "#8 Short-circuit evaluation of logical expressions"
      ]
    },
    {
      "cell_type": "code",
      "metadata": {
        "id": "rRbz6pMJd0W_"
      },
      "source": [
        "x=6\n",
        "y=0\n",
        "x >= 2 and (x/y) > 2"
      ],
      "execution_count": null,
      "outputs": []
    },
    {
      "cell_type": "markdown",
      "metadata": {
        "id": "EcSTX9C6gjWn"
      },
      "source": [
        "We can construct the logical expression to strategically place a **guard (patter)evaluation**\n",
        "just before the evaluation that might cause an error as follows:"
      ]
    },
    {
      "cell_type": "code",
      "metadata": {
        "id": "LH6SHZ6kgqx-",
        "outputId": "2731ab34-ede5-4fd5-e332-ea07d9d65d39",
        "colab": {
          "base_uri": "https://localhost:8080/",
          "height": 34
        }
      },
      "source": [
        "x >= 2 and y != 0 and (x/y) > 2"
      ],
      "execution_count": 27,
      "outputs": [
        {
          "output_type": "execute_result",
          "data": {
            "text/plain": [
              "False"
            ]
          },
          "metadata": {
            "tags": []
          },
          "execution_count": 27
        }
      ]
    },
    {
      "cell_type": "markdown",
      "metadata": {
        "id": "n0pOU6h2hEnl"
      },
      "source": [
        "In the second expression, we say that y != 0 acts as a **guard to insure** that we\n",
        "only execute (x/y) if y is non-zero. This is best example of short-circuiting."
      ]
    },
    {
      "cell_type": "markdown",
      "metadata": {
        "id": "qkR1HvJSh-LM"
      },
      "source": [
        "When Python detects that there is nothing to be gained by evaluating the rest\n",
        "of a logical expression, it stops its evaluation and does not do the computations\n",
        "in the rest of the logical expression. When the evaluation of a logical expression\n",
        "stops because the overall value is already known, it is called **short-circuiting** the\n",
        "evaluation.\n",
        "While this may seem like a fine point, the short-circuit behavior leads to a clever\n",
        "technique called the *guardian pattern*."
      ]
    },
    {
      "cell_type": "code",
      "metadata": {
        "id": "0ki3gkRdhCrF"
      },
      "source": [
        ""
      ],
      "execution_count": null,
      "outputs": []
    }
  ]
}