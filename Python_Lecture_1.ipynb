{
  "nbformat": 4,
  "nbformat_minor": 0,
  "metadata": {
    "colab": {
      "name": "Python_Lecture_1.ipynb",
      "provenance": [],
      "authorship_tag": "ABX9TyPFY5CXcKBnz6yugdbbNvmf",
      "include_colab_link": true
    },
    "kernelspec": {
      "name": "python3",
      "display_name": "Python 3"
    }
  },
  "cells": [
    {
      "cell_type": "markdown",
      "metadata": {
        "id": "view-in-github",
        "colab_type": "text"
      },
      "source": [
        "<a href=\"https://colab.research.google.com/github/faisalnawazmir/Python_Lectures/blob/main/Python_Lecture_1.ipynb\" target=\"_parent\"><img src=\"https://colab.research.google.com/assets/colab-badge.svg\" alt=\"Open In Colab\"/></a>"
      ]
    },
    {
      "cell_type": "markdown",
      "metadata": {
        "id": "8b_jMp1tV8CZ"
      },
      "source": [
        "#Values and Types"
      ]
    },
    {
      "cell_type": "markdown",
      "metadata": {
        "id": "7wn_-5uYWcHQ"
      },
      "source": [
        "A value is one of the basic things a program works with, like a letter or a number.\n",
        "The values we have seen so far are 1, 2, and “Hello, World!” These values belong to different types: 2 is an integer, and “Hello, World!” is a string, so called because it contains a “string” of letters."
      ]
    },
    {
      "cell_type": "code",
      "metadata": {
        "id": "-72P2PCASrnA",
        "outputId": "6aa39a9f-00ca-4348-e1b4-cf33603f550a",
        "colab": {
          "base_uri": "https://localhost:8080/",
          "height": 33
        }
      },
      "source": [
        "print(4)"
      ],
      "execution_count": null,
      "outputs": [
        {
          "output_type": "stream",
          "text": [
            "4\n"
          ],
          "name": "stdout"
        }
      ]
    },
    {
      "cell_type": "code",
      "metadata": {
        "id": "1E3nE9sVSxbO",
        "outputId": "d78fde6a-2f5a-42c5-a1cc-04c0169a65de",
        "colab": {
          "base_uri": "https://localhost:8080/",
          "height": 33
        }
      },
      "source": [
        "print('Hello World!')"
      ],
      "execution_count": null,
      "outputs": [
        {
          "output_type": "stream",
          "text": [
            "Hello World!\n"
          ],
          "name": "stdout"
        }
      ]
    },
    {
      "cell_type": "code",
      "metadata": {
        "id": "bgK0l5QYS5Fp",
        "outputId": "e1892be2-ce09-4902-b2d0-a19ccfecabb0",
        "colab": {
          "base_uri": "https://localhost:8080/",
          "height": 33
        }
      },
      "source": [
        "type(4)"
      ],
      "execution_count": null,
      "outputs": [
        {
          "output_type": "execute_result",
          "data": {
            "text/plain": [
              "int"
            ]
          },
          "metadata": {
            "tags": []
          },
          "execution_count": 3
        }
      ]
    },
    {
      "cell_type": "code",
      "metadata": {
        "id": "TG8MVWE-TMkm",
        "outputId": "c63d749b-7497-45f5-837f-005017bdc314",
        "colab": {
          "base_uri": "https://localhost:8080/",
          "height": 33
        }
      },
      "source": [
        "type('hello')"
      ],
      "execution_count": null,
      "outputs": [
        {
          "output_type": "execute_result",
          "data": {
            "text/plain": [
              "str"
            ]
          },
          "metadata": {
            "tags": []
          },
          "execution_count": 4
        }
      ]
    },
    {
      "cell_type": "code",
      "metadata": {
        "id": "i-5r5mCKTOv1",
        "outputId": "f9bda3d8-9946-4c62-8ffc-18c9417e6a48",
        "colab": {
          "base_uri": "https://localhost:8080/",
          "height": 33
        }
      },
      "source": [
        "type(1.5)"
      ],
      "execution_count": null,
      "outputs": [
        {
          "output_type": "execute_result",
          "data": {
            "text/plain": [
              "float"
            ]
          },
          "metadata": {
            "tags": []
          },
          "execution_count": 5
        }
      ]
    },
    {
      "cell_type": "code",
      "metadata": {
        "id": "ZN3s5emiTRSZ"
      },
      "source": [
        ""
      ],
      "execution_count": null,
      "outputs": []
    },
    {
      "cell_type": "markdown",
      "metadata": {
        "id": "0X1W7SlZTXY2"
      },
      "source": [
        "##Variables"
      ]
    },
    {
      "cell_type": "markdown",
      "metadata": {
        "id": "Ye21dBLYW77j"
      },
      "source": [
        "A variable is a name that refers to a value. \n",
        "An assignment statement creates new variables and gives them values."
      ]
    },
    {
      "cell_type": "code",
      "metadata": {
        "id": "SUbNKFjCTaKe"
      },
      "source": [
        "message='Hello dear, how are you'"
      ],
      "execution_count": null,
      "outputs": []
    },
    {
      "cell_type": "code",
      "metadata": {
        "id": "jYie_7gBThwb"
      },
      "source": [
        "n=17"
      ],
      "execution_count": null,
      "outputs": []
    },
    {
      "cell_type": "code",
      "metadata": {
        "id": "5hoRssmcTjhR"
      },
      "source": [
        "pi=3.14"
      ],
      "execution_count": null,
      "outputs": []
    },
    {
      "cell_type": "code",
      "metadata": {
        "id": "1c4eipDbTl4R",
        "outputId": "1be75f28-718f-4c2d-94f5-bfe9186a2012",
        "colab": {
          "base_uri": "https://localhost:8080/",
          "height": 33
        }
      },
      "source": [
        "print(n)"
      ],
      "execution_count": null,
      "outputs": [
        {
          "output_type": "stream",
          "text": [
            "17\n"
          ],
          "name": "stdout"
        }
      ]
    },
    {
      "cell_type": "code",
      "metadata": {
        "id": "UNzICsaCTn-0",
        "outputId": "9e8e8353-958b-4eb8-c7d3-766f744bf4be",
        "colab": {
          "base_uri": "https://localhost:8080/",
          "height": 33
        }
      },
      "source": [
        "print(message)"
      ],
      "execution_count": null,
      "outputs": [
        {
          "output_type": "stream",
          "text": [
            "Hello dear, how are you\n"
          ],
          "name": "stdout"
        }
      ]
    },
    {
      "cell_type": "code",
      "metadata": {
        "id": "MuDWaMEYTqzi"
      },
      "source": [
        "#Variable names and keywords"
      ],
      "execution_count": 1,
      "outputs": []
    },
    {
      "cell_type": "markdown",
      "metadata": {
        "id": "d1ioXOnZTyga"
      },
      "source": [
        "# Statements"
      ]
    },
    {
      "cell_type": "markdown",
      "metadata": {
        "id": "HmEg_T4vXg2y"
      },
      "source": [
        "A statement is a unit of code that the Python interpreter can execute."
      ]
    },
    {
      "cell_type": "code",
      "metadata": {
        "id": "oyxh2ze8YHhg",
        "outputId": "123d8161-485e-45c7-e67d-66d6a3289ef9",
        "colab": {
          "base_uri": "https://localhost:8080/",
          "height": 34
        }
      },
      "source": [
        "print('hello')"
      ],
      "execution_count": 2,
      "outputs": [
        {
          "output_type": "stream",
          "text": [
            "hello\n"
          ],
          "name": "stdout"
        }
      ]
    },
    {
      "cell_type": "code",
      "metadata": {
        "id": "7uuopcmET2l0",
        "outputId": "64a3e450-93e4-4202-9a0e-21cab98b04b9",
        "colab": {
          "base_uri": "https://localhost:8080/",
          "height": 33
        }
      },
      "source": [
        "n=10;n=n+1;print(n)"
      ],
      "execution_count": null,
      "outputs": [
        {
          "output_type": "stream",
          "text": [
            "11\n"
          ],
          "name": "stdout"
        }
      ]
    },
    {
      "cell_type": "markdown",
      "metadata": {
        "id": "VfMhtgBjYOxS"
      },
      "source": [
        "#Operators and operands"
      ]
    },
    {
      "cell_type": "markdown",
      "metadata": {
        "id": "Ehq8_O6dYtUQ"
      },
      "source": [
        "Operators are special symbols that represent computations like addition and multiplication.\n",
        "The values the operator is applied to are called operands.\n",
        "The operators +, -, *, /, and ** perform addition, subtraction, multiplication,\n",
        "division, and exponentiation"
      ]
    },
    {
      "cell_type": "code",
      "metadata": {
        "id": "mt-QyXNRURJu",
        "outputId": "08e1c656-9a23-438a-9859-c315a3e698f2",
        "colab": {
          "base_uri": "https://localhost:8080/",
          "height": 33
        }
      },
      "source": [
        "1+10"
      ],
      "execution_count": null,
      "outputs": [
        {
          "output_type": "execute_result",
          "data": {
            "text/plain": [
              "11"
            ]
          },
          "metadata": {
            "tags": []
          },
          "execution_count": 13
        }
      ]
    },
    {
      "cell_type": "code",
      "metadata": {
        "id": "g62PGFtCUdsx",
        "outputId": "a79ee7a1-5285-4fa2-91c2-4b8c7ae07ad2",
        "colab": {
          "base_uri": "https://localhost:8080/",
          "height": 33
        }
      },
      "source": [
        "2*3"
      ],
      "execution_count": null,
      "outputs": [
        {
          "output_type": "execute_result",
          "data": {
            "text/plain": [
              "6"
            ]
          },
          "metadata": {
            "tags": []
          },
          "execution_count": 14
        }
      ]
    },
    {
      "cell_type": "code",
      "metadata": {
        "id": "YV0iC57ZUfkm",
        "outputId": "e8297644-02cf-4ac7-f9ae-4f5d1278add7",
        "colab": {
          "base_uri": "https://localhost:8080/",
          "height": 33
        }
      },
      "source": [
        "2**3"
      ],
      "execution_count": null,
      "outputs": [
        {
          "output_type": "execute_result",
          "data": {
            "text/plain": [
              "8"
            ]
          },
          "metadata": {
            "tags": []
          },
          "execution_count": 15
        }
      ]
    },
    {
      "cell_type": "code",
      "metadata": {
        "id": "aVIWEOx_UiG3",
        "outputId": "c9efdfd9-a781-4b43-ca1e-41c1802066fc",
        "colab": {
          "base_uri": "https://localhost:8080/",
          "height": 33
        }
      },
      "source": [
        "n=2\n",
        "n=n*3\n",
        "n"
      ],
      "execution_count": null,
      "outputs": [
        {
          "output_type": "execute_result",
          "data": {
            "text/plain": [
              "6"
            ]
          },
          "metadata": {
            "tags": []
          },
          "execution_count": 20
        }
      ]
    },
    {
      "cell_type": "code",
      "metadata": {
        "id": "J8oxi8vmU3M_",
        "outputId": "6d451399-49b5-4d2a-be6e-b94e3cea8926",
        "colab": {
          "base_uri": "https://localhost:8080/",
          "height": 34
        }
      },
      "source": [
        "588%2 #modulus operator, gives remainder"
      ],
      "execution_count": 17,
      "outputs": [
        {
          "output_type": "execute_result",
          "data": {
            "text/plain": [
              "0"
            ]
          },
          "metadata": {
            "tags": []
          },
          "execution_count": 17
        }
      ]
    },
    {
      "cell_type": "code",
      "metadata": {
        "id": "Qx_WZtu8ckrQ",
        "outputId": "267a11dc-5b8e-4377-c5e9-fa3aafed6475",
        "colab": {
          "base_uri": "https://localhost:8080/",
          "height": 34
        }
      },
      "source": [
        "7/3"
      ],
      "execution_count": 7,
      "outputs": [
        {
          "output_type": "execute_result",
          "data": {
            "text/plain": [
              "2.3333333333333335"
            ]
          },
          "metadata": {
            "tags": []
          },
          "execution_count": 7
        }
      ]
    },
    {
      "cell_type": "code",
      "metadata": {
        "id": "CrmfKF2ecVSl",
        "outputId": "2da38b49-00eb-4aef-fc70-455a1dc9ee07",
        "colab": {
          "base_uri": "https://localhost:8080/",
          "height": 34
        }
      },
      "source": [
        "7//3 # // or Floor division returns the quotient(result of division) in which the digits after the decimal point are removed."
      ],
      "execution_count": 8,
      "outputs": [
        {
          "output_type": "execute_result",
          "data": {
            "text/plain": [
              "2"
            ]
          },
          "metadata": {
            "tags": []
          },
          "execution_count": 8
        }
      ]
    },
    {
      "cell_type": "markdown",
      "metadata": {
        "id": "b6r9nmUjY5b5"
      },
      "source": [
        "#Expressions"
      ]
    },
    {
      "cell_type": "markdown",
      "metadata": {
        "id": "BTNpQUmHY9Rh"
      },
      "source": [
        "An expression is a combination of values, variables, and operators. A value all by\n",
        "itself is considered an expression, and so is a variable, so the following are all legal\n",
        "expressions."
      ]
    },
    {
      "cell_type": "markdown",
      "metadata": {
        "id": "SFxRx-pvi5oo"
      },
      "source": [
        "17\n",
        "\n",
        "x\n",
        "\n",
        "x + 17"
      ]
    },
    {
      "cell_type": "code",
      "metadata": {
        "id": "CT4hfDkSVrq_",
        "outputId": "a602b2c7-0c02-4a43-b1e5-089fbd990c10",
        "colab": {
          "base_uri": "https://localhost:8080/",
          "height": 34
        }
      },
      "source": [
        "1 + 1"
      ],
      "execution_count": 18,
      "outputs": [
        {
          "output_type": "execute_result",
          "data": {
            "text/plain": [
              "2"
            ]
          },
          "metadata": {
            "tags": []
          },
          "execution_count": 18
        }
      ]
    },
    {
      "cell_type": "markdown",
      "metadata": {
        "id": "qfh_9v2CZbFm"
      },
      "source": [
        "#Order of operations"
      ]
    },
    {
      "cell_type": "markdown",
      "metadata": {
        "id": "10388s3HaaSi"
      },
      "source": [
        "Python follows PEMDAS mathematical convention. \n",
        "**P**arentheses have the highest precedence and can be used to force an expression\n",
        "to evaluate in the order you want.\n",
        "\n",
        "**E**xponentiation has the next highest precedence.\n",
        "\n",
        "**M**ultiplication and **D**ivision have the same precedence, which is higher than\n",
        "**A**ddition and **S**ubtraction, which also have the same precedence.\n",
        "\n",
        "Operators with the same precedence are evaluated from left to right."
      ]
    },
    {
      "cell_type": "markdown",
      "metadata": {
        "id": "iBkQ5q9nbRpL"
      },
      "source": [
        "#Modulus operator"
      ]
    },
    {
      "cell_type": "markdown",
      "metadata": {
        "id": "uIwXpLx0bU8r"
      },
      "source": [
        "The modulus operator works on integers and yields the remainder when the first\n",
        "operand is divided by the second. In Python, the modulus operator is a percent\n",
        "sign (%)."
      ]
    },
    {
      "cell_type": "code",
      "metadata": {
        "id": "JjVeefUob5Ry",
        "outputId": "6da48b30-666b-4007-ee41-b423edd96d0f",
        "colab": {
          "base_uri": "https://localhost:8080/",
          "height": 34
        }
      },
      "source": [
        "quotient = 7 // 3\n",
        "print(quotient)"
      ],
      "execution_count": 4,
      "outputs": [
        {
          "output_type": "stream",
          "text": [
            "2\n"
          ],
          "name": "stdout"
        }
      ]
    },
    {
      "cell_type": "code",
      "metadata": {
        "id": "33Feer8vcBuk",
        "outputId": "63922078-e4c0-4b8f-ce48-c2636c7c1acd",
        "colab": {
          "base_uri": "https://localhost:8080/",
          "height": 34
        }
      },
      "source": [
        "remainder = 7 % 3\n",
        "print(remainder)"
      ],
      "execution_count": 5,
      "outputs": [
        {
          "output_type": "stream",
          "text": [
            "1\n"
          ],
          "name": "stdout"
        }
      ]
    },
    {
      "cell_type": "markdown",
      "metadata": {
        "id": "BG5sQKzOdZtb"
      },
      "source": [
        "#String operations"
      ]
    },
    {
      "cell_type": "code",
      "metadata": {
        "id": "-jX1Ja5Hb9ET",
        "outputId": "7139d531-8c50-49ea-96d3-53d19ef48f11",
        "colab": {
          "base_uri": "https://localhost:8080/",
          "height": 34
        }
      },
      "source": [
        "first= 'hello'\n",
        "second=' name'\n",
        "print(first+second) #concatenation"
      ],
      "execution_count": 10,
      "outputs": [
        {
          "output_type": "stream",
          "text": [
            "hello name\n"
          ],
          "name": "stdout"
        }
      ]
    },
    {
      "cell_type": "code",
      "metadata": {
        "id": "kwsnQkGmVzV-"
      },
      "source": [
        "first='Test '"
      ],
      "execution_count": null,
      "outputs": []
    },
    {
      "cell_type": "code",
      "metadata": {
        "id": "ySRJagK8WR8o",
        "outputId": "2a9a86c9-4034-43a9-de02-8f2961099209",
        "colab": {
          "base_uri": "https://localhost:8080/",
          "height": 35
        }
      },
      "source": [
        "first*3"
      ],
      "execution_count": null,
      "outputs": [
        {
          "output_type": "execute_result",
          "data": {
            "application/vnd.google.colaboratory.intrinsic+json": {
              "type": "string"
            },
            "text/plain": [
              "'Test Test Test '"
            ]
          },
          "metadata": {
            "tags": []
          },
          "execution_count": 30
        }
      ]
    },
    {
      "cell_type": "markdown",
      "metadata": {
        "id": "4NirH_WreBx1"
      },
      "source": [
        "#Asking the user for input"
      ]
    },
    {
      "cell_type": "code",
      "metadata": {
        "id": "o9ib6RYOWTEn",
        "outputId": "7d25b4fe-1026-4598-fdfa-e0698e9ab6d0",
        "colab": {
          "base_uri": "https://localhost:8080/",
          "height": 33
        }
      },
      "source": [
        "name=input('Enter your name ')"
      ],
      "execution_count": null,
      "outputs": [
        {
          "output_type": "stream",
          "text": [
            "Enter your name Saad\n"
          ],
          "name": "stdout"
        }
      ]
    },
    {
      "cell_type": "code",
      "metadata": {
        "id": "plOlxV9pWpIY",
        "outputId": "de877275-f5b4-4a55-d111-9387c752c34c",
        "colab": {
          "base_uri": "https://localhost:8080/",
          "height": 35
        }
      },
      "source": [
        "name"
      ],
      "execution_count": null,
      "outputs": [
        {
          "output_type": "execute_result",
          "data": {
            "application/vnd.google.colaboratory.intrinsic+json": {
              "type": "string"
            },
            "text/plain": [
              "'Saad'"
            ]
          },
          "metadata": {
            "tags": []
          },
          "execution_count": 32
        }
      ]
    },
    {
      "cell_type": "code",
      "metadata": {
        "id": "n5V14YJoWsLA",
        "outputId": "5824b84a-8d0d-4347-c006-54d27e635f98",
        "colab": {
          "base_uri": "https://localhost:8080/",
          "height": 33
        }
      },
      "source": [
        "type(name)"
      ],
      "execution_count": null,
      "outputs": [
        {
          "output_type": "execute_result",
          "data": {
            "text/plain": [
              "str"
            ]
          },
          "metadata": {
            "tags": []
          },
          "execution_count": 33
        }
      ]
    },
    {
      "cell_type": "code",
      "metadata": {
        "id": "ay7FcoEXWv9q",
        "outputId": "89141f5a-373a-46bb-e2c7-9399bdb8de94",
        "colab": {
          "base_uri": "https://localhost:8080/",
          "height": 50
        }
      },
      "source": [
        "number=input('Enter a number \\n')"
      ],
      "execution_count": null,
      "outputs": [
        {
          "output_type": "stream",
          "text": [
            "Enter a number \n",
            "10\n"
          ],
          "name": "stdout"
        }
      ]
    },
    {
      "cell_type": "code",
      "metadata": {
        "id": "Azg05ZYJW2Cs",
        "outputId": "485410e2-a57c-4862-ee3b-59455a39ae27",
        "colab": {
          "base_uri": "https://localhost:8080/",
          "height": 33
        }
      },
      "source": [
        "type(number) # type command gives the type of its argument"
      ],
      "execution_count": null,
      "outputs": [
        {
          "output_type": "execute_result",
          "data": {
            "text/plain": [
              "str"
            ]
          },
          "metadata": {
            "tags": []
          },
          "execution_count": 39
        }
      ]
    },
    {
      "cell_type": "code",
      "metadata": {
        "id": "EW6EuE1yXf2U"
      },
      "source": [
        ""
      ],
      "execution_count": null,
      "outputs": []
    },
    {
      "cell_type": "code",
      "metadata": {
        "id": "B4-Nh0m2W5CL"
      },
      "source": [
        "newnumber=int(number)"
      ],
      "execution_count": null,
      "outputs": []
    },
    {
      "cell_type": "code",
      "metadata": {
        "id": "Lldt8C2uW_du",
        "outputId": "bd8c8b7e-e4ff-48a6-e5c8-cc2ff4f3d9c3",
        "colab": {
          "base_uri": "https://localhost:8080/",
          "height": 33
        }
      },
      "source": [
        "type(newnumber)"
      ],
      "execution_count": null,
      "outputs": [
        {
          "output_type": "execute_result",
          "data": {
            "text/plain": [
              "int"
            ]
          },
          "metadata": {
            "tags": []
          },
          "execution_count": 37
        }
      ]
    },
    {
      "cell_type": "markdown",
      "metadata": {
        "id": "lBaDpgpUeMki"
      },
      "source": [
        "#Comments"
      ]
    },
    {
      "cell_type": "markdown",
      "metadata": {
        "id": "_5vBTm1KT7eZ"
      },
      "source": [
        "It is a good idea to add notes to your programs to explain in natural language what the program is doing. These notes are called comments, and in Python they start with the **#** symbol."
      ]
    },
    {
      "cell_type": "code",
      "metadata": {
        "id": "b6f6wV_oT8Hs",
        "outputId": "933c8022-ea47-4231-9db7-bb64531e8470",
        "colab": {
          "base_uri": "https://localhost:8080/",
          "height": 34
        }
      },
      "source": [
        "# compute the percentage of the hour that has elapsed\n",
        "minute=30\n",
        "percentage = (minute * 100) / 60\n",
        "percentage # print percentage"
      ],
      "execution_count": 15,
      "outputs": [
        {
          "output_type": "execute_result",
          "data": {
            "text/plain": [
              "50.0"
            ]
          },
          "metadata": {
            "tags": []
          },
          "execution_count": 15
        }
      ]
    },
    {
      "cell_type": "code",
      "metadata": {
        "id": "0wrDmpode_Zf"
      },
      "source": [
        ""
      ],
      "execution_count": null,
      "outputs": []
    }
  ]
}