{
  "nbformat": 4,
  "nbformat_minor": 0,
  "metadata": {
    "colab": {
      "name": "Data Structrue _String2/2.ipynb",
      "provenance": [],
      "authorship_tag": "ABX9TyMI0zlqCDNskmPWuINuVN3m",
      "include_colab_link": true
    },
    "kernelspec": {
      "name": "python3",
      "display_name": "Python 3"
    },
    "language_info": {
      "name": "python"
    }
  },
  "cells": [
    {
      "cell_type": "markdown",
      "metadata": {
        "id": "view-in-github",
        "colab_type": "text"
      },
      "source": [
        "<a href=\"https://colab.research.google.com/github/faisalnawazmir/Python_Lectures/blob/main/Data_Structrue__String2_2.ipynb\" target=\"_parent\"><img src=\"https://colab.research.google.com/assets/colab-badge.svg\" alt=\"Open In Colab\"/></a>"
      ]
    },
    {
      "cell_type": "code",
      "metadata": {
        "id": "IkLWcCodm9OG"
      },
      "source": [
        ""
      ],
      "execution_count": null,
      "outputs": []
    },
    {
      "cell_type": "markdown",
      "metadata": {
        "id": "gYvo6OUfm-vB"
      },
      "source": [
        "# String methods\n"
      ]
    },
    {
      "cell_type": "markdown",
      "metadata": {
        "id": "1LzDnYNinfJz"
      },
      "source": [
        "**Strings** are an example of Python *objects*. An object contains both data (the actual string itself) and methods, which are effectively functions that are built into the object and are available to any instance of the object.\n"
      ]
    },
    {
      "cell_type": "markdown",
      "metadata": {
        "id": "C6Gc3mtTnncM"
      },
      "source": [
        "Python has a function called **dir** which lists the methods available for an object. The type function shows the type of an object and the dir function shows the available methods.\n"
      ]
    },
    {
      "cell_type": "code",
      "metadata": {
        "id": "Hjd6OrxVoHRR"
      },
      "source": [
        "mystring='Hello World!'"
      ],
      "execution_count": null,
      "outputs": []
    },
    {
      "cell_type": "code",
      "metadata": {
        "colab": {
          "base_uri": "https://localhost:8080/"
        },
        "id": "QXWOkfhCoM-O",
        "outputId": "7e86f5de-bec9-40ad-9fe1-5667028ab42a"
      },
      "source": [
        "type(mystring)"
      ],
      "execution_count": null,
      "outputs": [
        {
          "output_type": "execute_result",
          "data": {
            "text/plain": [
              "str"
            ]
          },
          "metadata": {
            "tags": []
          },
          "execution_count": 2
        }
      ]
    },
    {
      "cell_type": "code",
      "metadata": {
        "colab": {
          "base_uri": "https://localhost:8080/"
        },
        "id": "wKYBxebeoO_J",
        "outputId": "945d4e07-6340-4518-90c5-f4e7063b3ed0"
      },
      "source": [
        "dir(mystring)"
      ],
      "execution_count": null,
      "outputs": [
        {
          "output_type": "execute_result",
          "data": {
            "text/plain": [
              "['__add__',\n",
              " '__class__',\n",
              " '__contains__',\n",
              " '__delattr__',\n",
              " '__dir__',\n",
              " '__doc__',\n",
              " '__eq__',\n",
              " '__format__',\n",
              " '__ge__',\n",
              " '__getattribute__',\n",
              " '__getitem__',\n",
              " '__getnewargs__',\n",
              " '__gt__',\n",
              " '__hash__',\n",
              " '__init__',\n",
              " '__init_subclass__',\n",
              " '__iter__',\n",
              " '__le__',\n",
              " '__len__',\n",
              " '__lt__',\n",
              " '__mod__',\n",
              " '__mul__',\n",
              " '__ne__',\n",
              " '__new__',\n",
              " '__reduce__',\n",
              " '__reduce_ex__',\n",
              " '__repr__',\n",
              " '__rmod__',\n",
              " '__rmul__',\n",
              " '__setattr__',\n",
              " '__sizeof__',\n",
              " '__str__',\n",
              " '__subclasshook__',\n",
              " 'capitalize',\n",
              " 'casefold',\n",
              " 'center',\n",
              " 'count',\n",
              " 'encode',\n",
              " 'endswith',\n",
              " 'expandtabs',\n",
              " 'find',\n",
              " 'format',\n",
              " 'format_map',\n",
              " 'index',\n",
              " 'isalnum',\n",
              " 'isalpha',\n",
              " 'isascii',\n",
              " 'isdecimal',\n",
              " 'isdigit',\n",
              " 'isidentifier',\n",
              " 'islower',\n",
              " 'isnumeric',\n",
              " 'isprintable',\n",
              " 'isspace',\n",
              " 'istitle',\n",
              " 'isupper',\n",
              " 'join',\n",
              " 'ljust',\n",
              " 'lower',\n",
              " 'lstrip',\n",
              " 'maketrans',\n",
              " 'partition',\n",
              " 'replace',\n",
              " 'rfind',\n",
              " 'rindex',\n",
              " 'rjust',\n",
              " 'rpartition',\n",
              " 'rsplit',\n",
              " 'rstrip',\n",
              " 'split',\n",
              " 'splitlines',\n",
              " 'startswith',\n",
              " 'strip',\n",
              " 'swapcase',\n",
              " 'title',\n",
              " 'translate',\n",
              " 'upper',\n",
              " 'zfill']"
            ]
          },
          "metadata": {
            "tags": []
          },
          "execution_count": 3
        }
      ]
    },
    {
      "cell_type": "code",
      "metadata": {
        "colab": {
          "base_uri": "https://localhost:8080/"
        },
        "id": "O5QGjvrRoRXW",
        "outputId": "0b77cda8-d357-4aed-c6c3-31d0bd02fa1f"
      },
      "source": [
        "  help(str.capitalize)"
      ],
      "execution_count": null,
      "outputs": [
        {
          "output_type": "stream",
          "text": [
            "Help on method_descriptor:\n",
            "\n",
            "capitalize(self, /)\n",
            "    Return a capitalized version of the string.\n",
            "    \n",
            "    More specifically, make the first character have upper case and the rest lower\n",
            "    case.\n",
            "\n"
          ],
          "name": "stdout"
        }
      ]
    },
    {
      "cell_type": "markdown",
      "metadata": {
        "id": "QJFlMxU7oroH"
      },
      "source": [
        "While the dir function lists the methods, and you can use help to get some simple documentation on a method, a better source of documentation for string methods would be https://docs.python.org/library/stdtypes.html#string-methods.\n"
      ]
    },
    {
      "cell_type": "markdown",
      "metadata": {
        "id": "TxY_ay9DoeKp"
      },
      "source": [
        "Calling a method is similar to calling a function (it takes arguments and returns\n",
        "a value) but the syntax is different. We call a method by appending the method\n",
        "name to the variable name using the period as a delimiter.\n",
        "For example, the method upper takes a string and returns a new string with all\n",
        "uppercase letters:\n",
        "Instead of the function syntax upper(word), it uses the method syntax\n",
        "word.upper().\n"
      ]
    },
    {
      "cell_type": "code",
      "metadata": {
        "colab": {
          "base_uri": "https://localhost:8080/"
        },
        "id": "O6gMtN-8o8Ft",
        "outputId": "4bbc1455-15a2-4e8d-ed48-4d5e0c2b82ab"
      },
      "source": [
        "word='apple'\n",
        "newword=word.upper()\n",
        "print(newword)"
      ],
      "execution_count": null,
      "outputs": [
        {
          "output_type": "stream",
          "text": [
            "APPLE\n"
          ],
          "name": "stdout"
        }
      ]
    },
    {
      "cell_type": "markdown",
      "metadata": {
        "id": "pH8fUw6wpcp7"
      },
      "source": [
        "A method call is called an invocation; in this case, we would say that we are\n",
        "invoking upper on the word.\n",
        "For example, there is a string method named find that searches for the position\n",
        "of one string within another:\n"
      ]
    },
    {
      "cell_type": "code",
      "metadata": {
        "colab": {
          "base_uri": "https://localhost:8080/"
        },
        "id": "Z8JtxQi3pKk_",
        "outputId": "99c7726a-0231-4815-fc7a-e8c54152fbd1"
      },
      "source": [
        "word='banana'\n",
        "index=word.find('a')\n",
        "print(index)"
      ],
      "execution_count": null,
      "outputs": [
        {
          "output_type": "stream",
          "text": [
            "1\n"
          ],
          "name": "stdout"
        }
      ]
    },
    {
      "cell_type": "markdown",
      "metadata": {
        "id": "AwaRUtwbpv6u"
      },
      "source": [
        "In this example, we invoke find on word and pass the letter we are looking for as\n",
        "a parameter.\n",
        "The find method can find substrings as well as characters:\n"
      ]
    },
    {
      "cell_type": "code",
      "metadata": {
        "colab": {
          "base_uri": "https://localhost:8080/"
        },
        "id": "ipsd8Cbzpnd2",
        "outputId": "7ad345d0-a8af-440c-d641-742a288a1667"
      },
      "source": [
        "word.find('na')"
      ],
      "execution_count": null,
      "outputs": [
        {
          "output_type": "execute_result",
          "data": {
            "text/plain": [
              "2"
            ]
          },
          "metadata": {
            "tags": []
          },
          "execution_count": 10
        }
      ]
    },
    {
      "cell_type": "markdown",
      "metadata": {
        "id": "Jv-IclD1p4qb"
      },
      "source": [
        "It can take as a second argument the index where it should start:\n"
      ]
    },
    {
      "cell_type": "code",
      "metadata": {
        "colab": {
          "base_uri": "https://localhost:8080/"
        },
        "id": "yYOuAKaNpz_d",
        "outputId": "cb3d86cb-6fb2-4531-8373-053d7d5fb0ea"
      },
      "source": [
        "word.find('na',3)"
      ],
      "execution_count": null,
      "outputs": [
        {
          "output_type": "execute_result",
          "data": {
            "text/plain": [
              "4"
            ]
          },
          "metadata": {
            "tags": []
          },
          "execution_count": 11
        }
      ]
    },
    {
      "cell_type": "markdown",
      "metadata": {
        "id": "rA973ucmqAx8"
      },
      "source": [
        "One common task is to remove white space (spaces, tabs, or newlines) from the\n",
        "beginning and end of a string using the strip method:\n"
      ]
    },
    {
      "cell_type": "code",
      "metadata": {
        "colab": {
          "base_uri": "https://localhost:8080/",
          "height": 36
        },
        "id": "QghABBCwp8OU",
        "outputId": "9987f6fd-23d0-44df-96a6-a30ba9979601"
      },
      "source": [
        "line=' Here we go '\n",
        "line.strip()"
      ],
      "execution_count": null,
      "outputs": [
        {
          "output_type": "execute_result",
          "data": {
            "application/vnd.google.colaboratory.intrinsic+json": {
              "type": "string"
            },
            "text/plain": [
              "'Here we go'"
            ]
          },
          "metadata": {
            "tags": []
          },
          "execution_count": 12
        }
      ]
    },
    {
      "cell_type": "markdown",
      "metadata": {
        "id": "2AMxgZmFqMK7"
      },
      "source": [
        "Some methods such as startswith return boolean values.\n"
      ]
    },
    {
      "cell_type": "code",
      "metadata": {
        "colab": {
          "base_uri": "https://localhost:8080/"
        },
        "id": "EtI3mLbXqGeQ",
        "outputId": "7855487d-ca11-4123-f8c7-f879ddbff8f5"
      },
      "source": [
        "line='Have a nice day'\n",
        "line.startswith('Have')"
      ],
      "execution_count": null,
      "outputs": [
        {
          "output_type": "execute_result",
          "data": {
            "text/plain": [
              "True"
            ]
          },
          "metadata": {
            "tags": []
          },
          "execution_count": 13
        }
      ]
    },
    {
      "cell_type": "code",
      "metadata": {
        "colab": {
          "base_uri": "https://localhost:8080/"
        },
        "id": "LZShLacHqWBW",
        "outputId": "7e9fe3ba-17a2-44dd-82db-991162b368e4"
      },
      "source": [
        "line.startswith('h')"
      ],
      "execution_count": null,
      "outputs": [
        {
          "output_type": "execute_result",
          "data": {
            "text/plain": [
              "False"
            ]
          },
          "metadata": {
            "tags": []
          },
          "execution_count": 14
        }
      ]
    },
    {
      "cell_type": "markdown",
      "metadata": {
        "id": "FEYKn05uqgbT"
      },
      "source": [
        "You will note that startswith requires case to match, so sometimes we take a line\n",
        "and map it all to lowercase before we do any checking using the lower method.\n"
      ]
    },
    {
      "cell_type": "code",
      "metadata": {
        "colab": {
          "base_uri": "https://localhost:8080/",
          "height": 36
        },
        "id": "6a3UerE_qZEG",
        "outputId": "0d761304-61b9-4445-9f21-2f23e3028b39"
      },
      "source": [
        "line.lower()"
      ],
      "execution_count": null,
      "outputs": [
        {
          "output_type": "execute_result",
          "data": {
            "application/vnd.google.colaboratory.intrinsic+json": {
              "type": "string"
            },
            "text/plain": [
              "'have a nice day'"
            ]
          },
          "metadata": {
            "tags": []
          },
          "execution_count": 15
        }
      ]
    },
    {
      "cell_type": "code",
      "metadata": {
        "colab": {
          "base_uri": "https://localhost:8080/"
        },
        "id": "T93kgfmTqknj",
        "outputId": "52d5d407-c6a6-4b90-c729-25a36d425232"
      },
      "source": [
        "line.lower().startswith('h')"
      ],
      "execution_count": null,
      "outputs": [
        {
          "output_type": "execute_result",
          "data": {
            "text/plain": [
              "True"
            ]
          },
          "metadata": {
            "tags": []
          },
          "execution_count": 16
        }
      ]
    },
    {
      "cell_type": "markdown",
      "metadata": {
        "id": "x70_h8EuqzAR"
      },
      "source": [
        "#Parsing strings\n"
      ]
    },
    {
      "cell_type": "markdown",
      "metadata": {
        "id": "9tJNbkaRqqTg"
      },
      "source": [
        "Often, we want to look into a string and find a substring. For example if we were\n",
        "presented a series of lines formatted as follows:\n",
        "\n",
        "_From stephen.marquard@** uct.ac.za** Sat Jan\n",
        " 5 09:14:16 2008_\n",
        "\n",
        "and we wanted to pull out only the second half of the address (i.e.,** uct.ac.za**)\n",
        "from each line, we can do this by using the find method and string slicing.\n",
        "\n",
        "First, we will find the position of the at-sign in the string. Then we will find the\n",
        "position of the first space after the at-sign. And then we will use string slicing to\n",
        "extract the portion of the string which we are looking for.\n"
      ]
    },
    {
      "cell_type": "code",
      "metadata": {
        "colab": {
          "base_uri": "https://localhost:8080/"
        },
        "id": "RfHiAq_Sq8GF",
        "outputId": "f905a230-1e78-429b-c4b2-5828a375b245"
      },
      "source": [
        "data = 'From stephen.marquard@uct.ac.za Sat Jan  5 09:14:16 2008'\n",
        "atpos=data.find('@')\n",
        "print(atpos)\n",
        "\n",
        "sppos=data.find(' ',atpos)\n",
        "print(sppos)\n",
        "\n",
        "host=data[atpos+1:sppos]\n",
        "print(host)"
      ],
      "execution_count": null,
      "outputs": [
        {
          "output_type": "stream",
          "text": [
            "21\n",
            "31\n",
            "uct.ac.za\n"
          ],
          "name": "stdout"
        }
      ]
    },
    {
      "cell_type": "markdown",
      "metadata": {
        "id": "fhvE5IlmrgIb"
      },
      "source": [
        "#Format operator\n"
      ]
    },
    {
      "cell_type": "markdown",
      "metadata": {
        "id": "ZX88O4ktscHO"
      },
      "source": [
        "The format operator, % allows us to construct strings, replacing parts of the strings\n",
        "with the data stored in variables."
      ]
    },
    {
      "cell_type": "code",
      "metadata": {
        "colab": {
          "base_uri": "https://localhost:8080/",
          "height": 36
        },
        "id": "yzm6ER9JsbE8",
        "outputId": "83118b41-0415-4370-f82a-5aaaabb3216d"
      },
      "source": [
        "camel=42\n",
        "'%d' %camel"
      ],
      "execution_count": null,
      "outputs": [
        {
          "output_type": "execute_result",
          "data": {
            "application/vnd.google.colaboratory.intrinsic+json": {
              "type": "string"
            },
            "text/plain": [
              "'42'"
            ]
          },
          "metadata": {
            "tags": []
          },
          "execution_count": 21
        }
      ]
    },
    {
      "cell_type": "markdown",
      "metadata": {
        "id": "-QHX6m7rs6DU"
      },
      "source": [
        "The result is the string ‘42’, which is not to be confused with the integer value 42.\n"
      ]
    },
    {
      "cell_type": "code",
      "metadata": {
        "colab": {
          "base_uri": "https://localhost:8080/",
          "height": 36
        },
        "id": "lpi76OBFsyX_",
        "outputId": "957fc03a-5267-420d-bd2c-dfdcec06a296"
      },
      "source": [
        "camels=42\n",
        "'I have spotted %d camels.' % camels"
      ],
      "execution_count": null,
      "outputs": [
        {
          "output_type": "execute_result",
          "data": {
            "application/vnd.google.colaboratory.intrinsic+json": {
              "type": "string"
            },
            "text/plain": [
              "'I have spotted 42 camels.'"
            ]
          },
          "metadata": {
            "tags": []
          },
          "execution_count": 23
        }
      ]
    },
    {
      "cell_type": "markdown",
      "metadata": {
        "id": "AoX5sP5oucaP"
      },
      "source": [
        "If there is more than one format sequence in the string, the second argument has\n",
        "to be a tuple1. Each format sequence is matched with an element of the tuple, in\n",
        "order.\n",
        "The following example uses %d to format an integer, %g to format a floating-point\n",
        "number (don’t ask why), and %s to format a string:\n"
      ]
    },
    {
      "cell_type": "code",
      "metadata": {
        "colab": {
          "base_uri": "https://localhost:8080/",
          "height": 36
        },
        "id": "DdGALXw0tALJ",
        "outputId": "a5cb4c52-2588-4404-f738-e93b1570e5da"
      },
      "source": [
        "'In %d years I have spotted %g %s.' % (3, 0.1, 'camels')"
      ],
      "execution_count": null,
      "outputs": [
        {
          "output_type": "execute_result",
          "data": {
            "application/vnd.google.colaboratory.intrinsic+json": {
              "type": "string"
            },
            "text/plain": [
              "'In 3 years I have spotted 0.1 camels.'"
            ]
          },
          "metadata": {
            "tags": []
          },
          "execution_count": 24
        }
      ]
    },
    {
      "cell_type": "markdown",
      "metadata": {
        "id": "zk95-qKAvPut"
      },
      "source": [
        "#fstring"
      ]
    },
    {
      "cell_type": "markdown",
      "metadata": {
        "id": "WIOrV6C4vdCq"
      },
      "source": [
        "Let’s start with some basic examples to have some fresh taste with some simplest usages, as shown below. In essence, the f-strings are string literals with the f letter, either lower or upper case, as the prefix. String literals are basically strings that are enclosed by a pair of quotes (i.e., quotation marks), and Python treats single and double quotes the same, as long as they come in pairs"
      ]
    },
    {
      "cell_type": "code",
      "metadata": {
        "id": "9ZGAz5D6xTbK",
        "colab": {
          "base_uri": "https://localhost:8080/",
          "height": 36
        },
        "outputId": "868218c1-3b6a-49a1-b057-80478c01e2f8"
      },
      "source": [
        "#interpolate a string\n",
        "name='Elan'\n",
        "f'hello {name}'"
      ],
      "execution_count": 1,
      "outputs": [
        {
          "output_type": "execute_result",
          "data": {
            "application/vnd.google.colaboratory.intrinsic+json": {
              "type": "string"
            },
            "text/plain": [
              "'hello Elan'"
            ]
          },
          "metadata": {
            "tags": []
          },
          "execution_count": 1
        }
      ]
    },
    {
      "cell_type": "code",
      "metadata": {
        "colab": {
          "base_uri": "https://localhost:8080/",
          "height": 36
        },
        "id": "C_nCC9kHL6dU",
        "outputId": "d9c3a3bf-2193-4b30-a7e8-727a7c2fc742"
      },
      "source": [
        "#interpolate an integer\n",
        "id=123\n",
        "f'My student id # is {id}'"
      ],
      "execution_count": 2,
      "outputs": [
        {
          "output_type": "execute_result",
          "data": {
            "application/vnd.google.colaboratory.intrinsic+json": {
              "type": "string"
            },
            "text/plain": [
              "'My student id # is 123'"
            ]
          },
          "metadata": {
            "tags": []
          },
          "execution_count": 2
        }
      ]
    },
    {
      "cell_type": "code",
      "metadata": {
        "colab": {
          "base_uri": "https://localhost:8080/",
          "height": 36
        },
        "id": "5-QBwbLdMOME",
        "outputId": "ec70b975-f65c-4442-d46d-b8484fa892b9"
      },
      "source": [
        "# interpolate a list\n",
        "fruits=['apple','banana','mango']\n",
        "f'My favourite fruits are: {fruits}'"
      ],
      "execution_count": 8,
      "outputs": [
        {
          "output_type": "execute_result",
          "data": {
            "application/vnd.google.colaboratory.intrinsic+json": {
              "type": "string"
            },
            "text/plain": [
              "'my mango'"
            ]
          },
          "metadata": {
            "tags": []
          },
          "execution_count": 8
        }
      ]
    },
    {
      "cell_type": "code",
      "metadata": {
        "colab": {
          "base_uri": "https://localhost:8080/",
          "height": 36
        },
        "id": "ky3Ou87cMhCQ",
        "outputId": "f71785df-4c9e-4d20-af95-19a29e56c8ab"
      },
      "source": [
        "# Interpolate a tuple\n",
        "http_response = ('data', 200)\n",
        "f\"Http Response: {http_response}\"\n",
        "\n",
        " \n",
        " # Interpolate a dictionary\n",
        "grades = {\"John\": 95, \"Jennifer\": 98}\n",
        "f\"Grades: {grades}\"\n"
      ],
      "execution_count": 10,
      "outputs": [
        {
          "output_type": "execute_result",
          "data": {
            "application/vnd.google.colaboratory.intrinsic+json": {
              "type": "string"
            },
            "text/plain": [
              "\"Grades: {'John': 95, 'Jennifer': 98}\""
            ]
          },
          "metadata": {
            "tags": []
          },
          "execution_count": 10
        }
      ]
    },
    {
      "cell_type": "code",
      "metadata": {
        "colab": {
          "base_uri": "https://localhost:8080/",
          "height": 36
        },
        "id": "rR5-duDjN-dz",
        "outputId": "590a6a8d-f0aa-4742-8965-a6fe5ba01fc8"
      },
      "source": [
        "# Access an element in a list\n",
        "pets = [\"Dogs\", \"Cats\", \"Turtles\"]\n",
        "f\"My pet: {pets[-1]}\"\n",
        "\n",
        "# With a function call\n",
        "name = \"john\"\n",
        "f\"Name: {name.title()}\"\n",
        "\n",
        "\n",
        "# Some calculation\n",
        "number = 5\n",
        "f\"Square: {number*number}\"\n"
      ],
      "execution_count": 11,
      "outputs": [
        {
          "output_type": "execute_result",
          "data": {
            "application/vnd.google.colaboratory.intrinsic+json": {
              "type": "string"
            },
            "text/plain": [
              "'Square: 25'"
            ]
          },
          "metadata": {
            "tags": []
          },
          "execution_count": 11
        }
      ]
    },
    {
      "cell_type": "markdown",
      "metadata": {
        "id": "r2i29ypqOtbU"
      },
      "source": [
        "#Numeric and String Formatting"
      ]
    },
    {
      "cell_type": "code",
      "metadata": {
        "colab": {
          "base_uri": "https://localhost:8080/",
          "height": 36
        },
        "id": "jvtHB5aKOWdd",
        "outputId": "b081d3fa-b5b0-4100-a78d-d0a6c845a44c"
      },
      "source": [
        "# Big numbers separator\n",
        "big_number = 98765432123456789\n",
        "f'{big_number:_d}'"
      ],
      "execution_count": 12,
      "outputs": [
        {
          "output_type": "execute_result",
          "data": {
            "application/vnd.google.colaboratory.intrinsic+json": {
              "type": "string"
            },
            "text/plain": [
              "'98_765_432_123_456_789'"
            ]
          },
          "metadata": {
            "tags": []
          },
          "execution_count": 12
        }
      ]
    },
    {
      "cell_type": "code",
      "metadata": {
        "colab": {
          "base_uri": "https://localhost:8080/",
          "height": 36
        },
        "id": "vOodhASLPL9F",
        "outputId": "10d01808-af34-4d4d-c600-1f2092b77d22"
      },
      "source": [
        "# Floating numbers formatting\n",
        "more_digits = 2.345678\n",
        "f\"2 digits: {more_digits:.2f}; 4 digits: {more_digits:.4f}\""
      ],
      "execution_count": 13,
      "outputs": [
        {
          "output_type": "execute_result",
          "data": {
            "application/vnd.google.colaboratory.intrinsic+json": {
              "type": "string"
            },
            "text/plain": [
              "'2 digits: 2.35; 4 digits: 2.3457'"
            ]
          },
          "metadata": {
            "tags": []
          },
          "execution_count": 13
        }
      ]
    },
    {
      "cell_type": "code",
      "metadata": {
        "colab": {
          "base_uri": "https://localhost:8080/",
          "height": 36
        },
        "id": "17xR8LPRP1xX",
        "outputId": "62a7e601-31cf-4986-f6df-fbfedbad6c68"
      },
      "source": [
        "# Scientific notation\n",
        "sci_number = 0.0000043203\n",
        "f\"number: {sci_number:e}\""
      ],
      "execution_count": 14,
      "outputs": [
        {
          "output_type": "execute_result",
          "data": {
            "application/vnd.google.colaboratory.intrinsic+json": {
              "type": "string"
            },
            "text/plain": [
              "'number: 4.320300e-06'"
            ]
          },
          "metadata": {
            "tags": []
          },
          "execution_count": 14
        }
      ]
    },
    {
      "cell_type": "markdown",
      "metadata": {
        "id": "WJalLVHDP_HI"
      },
      "source": [
        "source:https://medium.com/swlh/string-formatting-in-python-6-things-to-know-about-f-strings-72fd38d96172"
      ]
    },
    {
      "cell_type": "code",
      "metadata": {
        "id": "pzVG_YIJQXss"
      },
      "source": [
        ""
      ],
      "execution_count": null,
      "outputs": []
    }
  ]
}